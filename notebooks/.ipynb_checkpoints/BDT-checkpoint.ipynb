{
 "cells": [
  {
   "cell_type": "markdown",
   "metadata": {},
   "source": [
    "# How to rediscover the Higgs boson yourself! - BDT\n",
    "This notebook uses ATLAS Open Data http://opendata.atlas.cern to show you the steps to rediscover the Higgs boson yourself!\n",
    "\n",
    "The idea is that you improve upon the example BDT to increase the ratio of signal ($H \\rightarrow ZZ \\rightarrow \\ell\\ell\\ell\\ell$) to background ($Z, t\\bar{t}, ZZ \\rightarrow \\ell\\ell\\ell\\ell$)\n",
    "\n",
    "First, try to reduce the amount of $Z$ and $t\\bar{t}$ background, since these are quite different to the signal.\n",
    "\n",
    "Then, try to reduce the amount of $ZZ \\rightarrow \\ell\\ell\\ell\\ell$, whilst keeping $H \\rightarrow ZZ \\rightarrow \\ell\\ell\\ell\\ell$ signal\n",
    "\n",
    "The datasets used in this notebook have already been filtered to include at least 4 leptons per event, so that processing is quicker.\n",
    "\n",
    "This notebook was inspired by https://betatim.github.io/posts/sklearn-for-TMVA-users/"
   ]
  },
  {
   "cell_type": "markdown",
   "metadata": {},
   "source": [
    "<!-- <CENTER><img src=\"../HZZ_feynman.pdf\" style=\"width:40%\"></CENTER> -->"
   ]
  },
  {
   "cell_type": "markdown",
   "metadata": {},
   "source": [
    "## First time setup\n",
    "This first cell only needs to be run the first time you open this notebook on your computer. \n",
    "\n",
    "If you close jupyter and re-open on the same computer, you won't need to run this first cell again.\n",
    "\n",
    "If you re-open on binder, you will need to run this cell again.\n",
    "\n",
    "If you run into a problem of \"uproot not being available\", Kernel -> Restart & Run All"
   ]
  },
  {
   "cell_type": "code",
   "execution_count": null,
   "metadata": {},
   "outputs": [],
   "source": [
    "import sys\n",
    "!{sys.executable} -m pip install --upgrade --user pip\n",
    "!{sys.executable} -m pip install -U numpy pandas uproot matplotlib keras scikit-learn --user"
   ]
  },
  {
   "cell_type": "markdown",
   "metadata": {},
   "source": [
    "## To setup everytime\n",
    "Cell -> Run All Below\n",
    "\n",
    "to be done every time you re-open this notebook"
   ]
  },
  {
   "cell_type": "code",
<<<<<<< HEAD
   "execution_count": 1,
=======
   "execution_count": 2,
>>>>>>> 3bfca4d1f4779a7e6f549ea4fa16a5313d4e9755
   "metadata": {},
   "outputs": [],
   "source": [
    "import uproot\n",
    "import pandas as pd\n",
    "import time\n",
    "import math\n",
    "import numpy as np\n",
    "import matplotlib.pyplot as plt\n",
    "import glob\n",
    "import random\n",
    "\n",
    "import infofile"
   ]
  },
  {
   "cell_type": "code",
<<<<<<< HEAD
   "execution_count": 2,
=======
   "execution_count": 3,
>>>>>>> 3bfca4d1f4779a7e6f549ea4fa16a5313d4e9755
   "metadata": {},
   "outputs": [],
   "source": [
    "lumi = 1000\n",
    "                                                                                                                                  \n",
    "tuple_path = \"../Input/\"\n",
    "\n",
    "stack_order = ['data',r'$Z,t\\bar{t}$','ZZ',r'$H \\rightarrow ZZ \\rightarrow \\ell\\ell\\ell\\ell$']"
   ]
  },
  {
   "cell_type": "code",
<<<<<<< HEAD
   "execution_count": 3,
=======
   "execution_count": 4,
>>>>>>> 3bfca4d1f4779a7e6f549ea4fa16a5313d4e9755
   "metadata": {},
   "outputs": [],
   "source": [
    "samples = {\n",
    "\n",
    "    'data': {\n",
    "        'list' : ['DataEgamma','DataMuons']\n",
    "    },\n",
    "\n",
    "    r'$Z,t\\bar{t}$' : {\n",
    "        'list' : ['Zee','Zmumu','ttbar_lep'],\n",
    "        'color' : \"#8700da\"\n",
    "    },\n",
    "\n",
    "    'ZZ' : {\n",
    "        'list' : ['ZZ'],\n",
    "        'color' : \"#f90000\"\n",
    "    },\n",
    "\n",
    "    r'$H \\rightarrow ZZ \\rightarrow \\ell\\ell\\ell\\ell$' : {\n",
    "        'list' : ['ggH125_ZZ4lep','VBFH125_ZZ4lep'],\n",
    "        'color' : \"#4faeff\"\n",
    "    }\n",
    "\n",
    "}"
   ]
  },
  {
   "cell_type": "code",
<<<<<<< HEAD
   "execution_count": 4,
=======
   "execution_count": 5,
>>>>>>> 3bfca4d1f4779a7e6f549ea4fa16a5313d4e9755
   "metadata": {},
   "outputs": [],
   "source": [
    "def get_data_from_files():\n",
    "\n",
    "    data = {}\n",
    "\n",
    "    for s in samples:\n",
    "        print(s+':')\n",
    "        frames = []\n",
    "        for val in samples[s]['list']:\n",
    "            prefix = \"MC/skim.mc_\"\n",
    "            if s == 'data':\n",
    "                prefix = \"Data/skim.\"\n",
    "            else: prefix += str(infofile.infos[val][\"DSID\"])+\".\"\n",
    "            fileString = tuple_path+prefix+val+\".root\"\n",
    "            print(fileString)\n",
    "            f = glob.glob(fileString,recursive=False)[0]\n",
    "            if f != \"\":\n",
    "                temp = read_file(f,val)\n",
    "                frames.append(temp)\n",
    "            else:\n",
    "                print(\"Error: \"+val+\" not found!\")\n",
    "        data[s] = pd.concat(frames)\n",
    "\n",
    "    return data"
   ]
  },
  {
   "cell_type": "code",
<<<<<<< HEAD
   "execution_count": 5,
=======
   "execution_count": 6,
>>>>>>> 3bfca4d1f4779a7e6f549ea4fa16a5313d4e9755
   "metadata": {},
   "outputs": [],
   "source": [
    "def mllll_window(mllll):\n",
    "    return 120 < mllll < 130"
   ]
  },
  {
   "cell_type": "code",
<<<<<<< HEAD
   "execution_count": 6,
=======
   "execution_count": 7,
>>>>>>> 3bfca4d1f4779a7e6f549ea4fa16a5313d4e9755
   "metadata": {},
   "outputs": [],
   "source": [
    "def calc_weight(mcWeight,scaleFactor_PILEUP,scaleFactor_ELE,\n",
    "                scaleFactor_MUON, scaleFactor_TRIGGER):\n",
    "    return mcWeight*scaleFactor_PILEUP*scaleFactor_ELE*scaleFactor_MUON*scaleFactor_TRIGGER"
   ]
  },
  {
   "cell_type": "code",
<<<<<<< HEAD
   "execution_count": 7,
=======
   "execution_count": 8,
>>>>>>> 3bfca4d1f4779a7e6f549ea4fa16a5313d4e9755
   "metadata": {},
   "outputs": [],
   "source": [
    "def get_xsec_weight(totalWeight,sample):\n",
    "    info = infofile.infos[sample]\n",
    "    weight = (lumi*info[\"xsec\"])/(info[\"sumw\"]*info[\"red_eff\"])\n",
    "    weight *= totalWeight\n",
    "    return weight"
   ]
  },
  {
   "cell_type": "markdown",
   "metadata": {},
   "source": [
    "## Plotting Variables and Correlations\n",
    "\n",
    "The <span style=\"color:red\">pandas</span> library provides high-performance, easy-to-use data structures and data analysis tools written in python. We will use it for its plotting capabilities and other nice ways to explore your data.\n",
    "\n",
    "A <span style=\"color:red\">DataFrame</span> is a 2-dimensional labeled data structure with columns of potentially different types. You can think of it like a spreadsheet."
   ]
  },
  {
   "cell_type": "code",
<<<<<<< HEAD
   "execution_count": 8,
=======
   "execution_count": 10,
>>>>>>> 3bfca4d1f4779a7e6f549ea4fa16a5313d4e9755
   "metadata": {},
   "outputs": [],
   "source": [
    "def plot_data(data):\n",
    "\n",
    "    mc_weights = []\n",
    "    mc_colors = []\n",
    "    mc_labels = []\n",
    "\n",
    "    for s in stack_order:\n",
    "        if s != \"data\":\n",
    "            mc_labels.append(s)\n",
    "            mc_colors.append(samples[s]['color'])\n",
    "    \n",
    "    # scatter plot of signal and background lep_n vs mllll\n",
    "    # need to remove lep_n from drop at end of read_file function for this to work\n",
    "    #plt.figure()\n",
    "    #for s in stack_order:\n",
    "    #    if s != 'data': plt.scatter(data[s].lep_n,data[s].mllll,color=samples[s]['color'],label=s)\n",
    "    #plt.xlabel(r'Leptons',fontname='sans-serif',horizontalalignment='right',y=1.0,fontsize=11)\n",
    "    #plt.ylabel(r'$M_{\\ell\\ell\\ell\\ell}$ [GeV]',fontname='sans-serif',horizontalalignment='right',x=1.0,fontsize=11)\n",
    "    #plt.legend()\n",
    "    \n",
    "    # scatter plot of signal and background lep_pt[0] vs mllll\n",
    "    # need to remove lep_pt from drop at end of read_file function for this to work\n",
    "    #plt.figure()\n",
    "    #for s in stack_order:\n",
    "    #    if s != 'data': plt.scatter(data[s].lep_pt.apply(lambda x: x[0]),data[s].mllll,color=samples[s]['color'],label=s)\n",
    "    #plt.legend()\n",
    "    \n",
    "    # plot correlation matrices for signal and background\n",
    "    # remove variables from drop at end of read_file function to see their correlations\n",
    "    #correlations(pd.concat([data[r'$Z,t\\bar{t}$'],data['ZZ']]),\"background\")\n",
    "    #correlations(data[r'$H \\rightarrow ZZ \\rightarrow \\ell\\ell\\ell\\ell$'], \"signal\")\n",
    "\n",
    "    return"
   ]
  },
  {
   "cell_type": "markdown",
   "metadata": {},
   "source": [
    "## Correlation Matrix\n",
    "The correlation between features can be plotted with <span style=\"color:red\">df.corr()</span>. "
   ]
  },
  {
   "cell_type": "code",
<<<<<<< HEAD
   "execution_count": 9,
=======
   "execution_count": 11,
>>>>>>> 3bfca4d1f4779a7e6f549ea4fa16a5313d4e9755
   "metadata": {},
   "outputs": [],
   "source": [
    "def correlations(data, title, **kwds):\n",
    "    \"\"\"Calculate pairwise correlation between features.\n",
    "    \n",
    "    Extra arguments are passed on to DataFrame.corr()\n",
    "    \"\"\"\n",
    "    # simply call df.corr() to get a table of\n",
    "    # correlation values if you do not need\n",
    "    # the fancy plotting\n",
    "    corrmat = data.corr(**kwds)\n",
    "\n",
    "    fig, ax1 = plt.subplots(ncols=1, figsize=(6,5))\n",
    "    \n",
    "    opts = {'cmap': plt.get_cmap(\"RdBu\"),\n",
    "            'vmin': -1, 'vmax': +1}\n",
    "    heatmap1 = ax1.pcolor(corrmat, **opts)\n",
    "    plt.colorbar(heatmap1, ax=ax1)\n",
    "\n",
    "    ax1.set_title(title+\" Correlations\")\n",
    "\n",
    "    labels = corrmat.columns.values\n",
    "    for ax in (ax1,):\n",
    "        # shift location of ticks to center of the bins\n",
    "        ax.set_xticks(np.arange(len(labels))+0.5, minor=False)\n",
    "        ax.set_yticks(np.arange(len(labels))+0.5, minor=False)\n",
    "        ax.set_xticklabels(labels, minor=False, ha='right', rotation=70)\n",
    "        ax.set_yticklabels(labels, minor=False)\n",
    "        \n",
    "    plt.tight_layout()"
   ]
  },
  {
   "cell_type": "code",
<<<<<<< HEAD
   "execution_count": 10,
=======
   "execution_count": 12,
>>>>>>> 3bfca4d1f4779a7e6f549ea4fa16a5313d4e9755
   "metadata": {},
   "outputs": [],
   "source": [
    "def calc_mllll(lep_pts,lep_etas,lep_phis):\n",
    "    theta_0 = 2*math.atan(math.exp(-lep_etas[0]))\n",
    "    theta_1 = 2*math.atan(math.exp(-lep_etas[1]))\n",
    "    theta_2 = 2*math.atan(math.exp(-lep_etas[2]))\n",
    "    theta_3 = 2*math.atan(math.exp(-lep_etas[3]))\n",
    "    p_0 = lep_pts[0]/math.sin(theta_0)\n",
    "    p_1 = lep_pts[1]/math.sin(theta_1)\n",
    "    p_2 = lep_pts[2]/math.sin(theta_2)\n",
    "    p_3 = lep_pts[3]/math.sin(theta_3)\n",
    "    pz_0 = p_0*math.cos(theta_0)\n",
    "    pz_1 = p_1*math.cos(theta_1)\n",
    "    pz_2 = p_2*math.cos(theta_2)\n",
    "    pz_3 = p_3*math.cos(theta_3)\n",
    "    px_0 = p_0*math.sin(theta_0)*math.cos(lep_phis[0])\n",
    "    px_1 = p_1*math.sin(theta_1)*math.cos(lep_phis[1])\n",
    "    px_2 = p_2*math.sin(theta_2)*math.cos(lep_phis[2])\n",
    "    px_3 = p_3*math.sin(theta_3)*math.cos(lep_phis[3])\n",
    "    py_0 = p_0*math.sin(theta_0)*math.sin(lep_phis[0])\n",
    "    py_1 = p_1*math.sin(theta_1)*math.sin(lep_phis[1])\n",
    "    py_2 = p_2*math.sin(theta_2)*math.sin(lep_phis[2])\n",
    "    py_3 = p_3*math.sin(theta_3)*math.sin(lep_phis[3])\n",
    "    sumpz = pz_0 + pz_1 + pz_2 + pz_3\n",
    "    sumpx = px_0 + px_1 + px_2 + px_3\n",
    "    sumpy = py_0 + py_1 + py_2 + py_3\n",
    "    sumE = p_0 + p_1 + p_2 + p_3\n",
    "    mllll = sumE**2 - sumpz**2 - sumpx**2 - sumpy**2\n",
    "    return math.sqrt(mllll)/1000."
   ]
  },
  {
   "cell_type": "code",
<<<<<<< HEAD
   "execution_count": 11,
=======
   "execution_count": 14,
>>>>>>> 3bfca4d1f4779a7e6f549ea4fa16a5313d4e9755
   "metadata": {},
   "outputs": [],
   "source": [
    "def calc_mll(lep_pts,lep_etas,lep_phis):\n",
    "    # this is only pseudo-code to tell you what to do!\n",
    "    # you need to decide how to find i & j yourself\n",
    "    mll = 2*lep_pts[i]*lep_pts[j!=i]\n",
    "    cosh = math.cosh(lep_etas[i]-lep_etas[j!=i])\n",
    "    cos = math.cos(lep_phis[i]-lep_phis[j!=i])\n",
    "    mll *= ( cosh - cos )\n",
    "    return math.sqrt(mll)/1000."
   ]
  },
  {
   "cell_type": "markdown",
   "metadata": {},
   "source": [
    "## Uncommenting a new cut\n",
    "If you add a cut: Cell -> Run All Below"
   ]
  },
  {
   "cell_type": "code",
<<<<<<< HEAD
   "execution_count": 12,
=======
   "execution_count": 15,
>>>>>>> 3bfca4d1f4779a7e6f549ea4fa16a5313d4e9755
   "metadata": {},
   "outputs": [],
   "source": [
    "def read_file(path,sample):\n",
    "    start = time.time()\n",
    "    print(\"\\tProcessing: \"+sample)\n",
    "    mc = uproot.open(path)[\"mini\"]\n",
<<<<<<< HEAD
    "    \n",
    "## --------------------------------------------------------------------------------------------------\n",
    "## This is the only part that we needed to change to sort compability with 'uproot v.4.1'.\n",
    "\n",
    "#     data = mc.pandas.df([\"lep_n\",\"lep_pt\",\"lep_eta\",\"lep_phi\",\"lep_charge\",\"lep_type\",\"lep_etcone20\",\"lep_trackd0pvunbiased\",\"lep_tracksigd0pvunbiased\",\n",
    "#                          \"mcWeight\",\"scaleFactor_PILEUP\",\"scaleFactor_ELE\",\"scaleFactor_MUON\", # add more variables here if you make cuts on them\n",
    "#                          \"scaleFactor_TRIGGER\"], flatten=False)\n",
=======
    "#     data = mc.pandas.df([\"lep_n\",\"lep_pt\",\"lep_eta\",\"lep_phi\",\"lep_charge\",\"lep_type\",\"lep_etcone20\",\"lep_trackd0pvunbiased\",\"lep_tracksigd0pvunbiased\",\n",
    "#                          \"mcWeight\",\"scaleFactor_PILEUP\",\"scaleFactor_ELE\",\"scaleFactor_MUON\", # add more variables here if you make cuts on them\n",
    "#                          \"scaleFactor_TRIGGER\"], flatten=False)\n",
    "    data = pd.DataFrame(mc.arrays([\"lep_n\",\"lep_pt\",\"lep_eta\",\"lep_phi\",\"lep_charge\",\"lep_type\",\"lep_etcone20\",\"lep_trackd0pvunbiased\",\"lep_tracksigd0pvunbiased\",\n",
    "                         \"mcWeight\",\"scaleFactor_PILEUP\",\"scaleFactor_ELE\",\"scaleFactor_MUON\", # add more variables here if you make cuts on them\n",
    "                         \"scaleFactor_TRIGGER\"], library ='np') #,columns = [\"lep_n\",\"lep_pt\",\"lep_eta\",\"lep_phi\",\"lep_charge\",\"lep_type\",\"lep_etcone20\",\"lep_trackd0pvunbiased\",\"lep_tracksigd0pvunbiased\",\"mcWeight\",\"scaleFactor_PILEUP\",\"scaleFactor_ELE\",\"scaleFactor_MUON\",\"scaleFactor_TRIGGER\"]\n",
    "                       )\n",
>>>>>>> 3bfca4d1f4779a7e6f549ea4fa16a5313d4e9755
    "\n",
    "    data = pd.DataFrame(mc.arrays([\"lep_n\",\"lep_pt\",\"lep_eta\",\"lep_phi\",\"lep_charge\",\"lep_type\",\"lep_etcone20\",\"lep_trackd0pvunbiased\",\"lep_tracksigd0pvunbiased\",\n",
    "                         \"mcWeight\",\"scaleFactor_PILEUP\",\"scaleFactor_ELE\",\"scaleFactor_MUON\", # add more variables here if you make cuts on them\n",
    "                         \"scaleFactor_TRIGGER\"], library ='np')\n",
    "                       )\n",
    "## ---------------------------------------------------------------------------------------------------\n",
    "    \n",
    "    nIn = len(data.index)\n",
    "\n",
    "    if 'Data' not in sample:\n",
    "        data['totalWeight'] = np.vectorize(calc_weight)(data.mcWeight,data.scaleFactor_PILEUP,data.scaleFactor_ELE,data.scaleFactor_MUON,data.scaleFactor_TRIGGER)\n",
    "        data['totalWeight'] = np.vectorize(get_xsec_weight)(data.totalWeight,sample)\n",
    "\n",
    "    data.drop([\"mcWeight\",\"scaleFactor_PILEUP\",\"scaleFactor_ELE\",\"scaleFactor_MUON\",\"scaleFactor_TRIGGER\"], axis=1, inplace=True)\n",
    "    \n",
    "    # cut on minimum lepton pt\n",
    "    \n",
    "    # cut on lepton etcone20\n",
    "    \n",
    "    # cut on lepton d0\n",
    "    \n",
    "    # example of adding column that takes the return of the function cut_lep_pt_min\n",
    "#     data['lep_pt_min'] = data.apply(cut_lep_pt_min,axis=1)\n",
    "    \n",
    "    # example of cut on minimum number of leptons passing baseline requirements\n",
    "#     fail = data[ np.vectorize(cut_n_lep_min)(data.lep_pt_min) ].index\n",
    "#     data.drop(fail, inplace=True)\n",
    "    \n",
    "    # cut on number of leptons\n",
    "#     fail = data[ np.vectorize(cut_n_lep)(data.lep_n) ].index\n",
    "#     data.drop(fail, inplace=True)\n",
    "\n",
    "    # cut on lepton charge\n",
    "#     fail = data[ np.vectorize(cut_lep_charge)(data.lep_charge) ].index\n",
    "#     data.drop(fail, inplace=True)\n",
    "    \n",
    "    #print(data)\n",
    "    \n",
    "    # cut on lepton type\n",
    "#     fail = data[ np.vectorize(cut_lep_type)(data.lep_type) ].index\n",
    "#     data.drop(fail, inplace=True)\n",
    "    \n",
    "    # cut on lepton pt\n",
    "    fail = data[ np.vectorize(cut_lep_pt2)(data.lep_pt) ].index\n",
    "    data.drop(fail, inplace=True)\n",
    "    \n",
    "    # cut on deltaR\n",
    "    #fail = data[ np.vectorize(cut_deltaR)(data.lep_eta,data.lep_phi...\n",
    "    #data.drop(fail, inplace=True)\n",
    "    \n",
    "    # cut on minimum opposite-charge-same-type lepton pair invariant mass\n",
    "    #fail = data[ np.vectorize(cut_OCST)(data....\n",
    "\n",
    "    # calculation of Z boson candidate 1 invariant mass\n",
    "    #data['mZ1'] = np.vectorize(calc_mZ1)(data.lep_pt,data.lep_eta,data.lep_phi)\n",
    "    \n",
    "    # cut on mZ1\n",
    "    #fail = data[ np.vectorize(cut_mZ1)(data.mZ1) ].index\n",
    "    #data.drop(fail, inplace=True)\n",
    "    \n",
    "    # calculation of Z boson candidate 2 invariant mass\n",
    "    #data['mZ2'] = np.vectorize(calc_mZ2)(data....\n",
    "    \n",
    "    # cut on mZ2\n",
    "    #fail = data[ np.vectorize(cut_mZ2)(data.mZ2) ].index\n",
    "    #data.drop(fail, inplace=True)\n",
    "    \n",
    "    # calculation of 4-lepton invariant mass\n",
    "    data['mllll'] = np.vectorize(calc_mllll)(data.lep_pt,data.lep_eta,data.lep_phi)\n",
    "\n",
    "    mllll_window_list = data[ np.vectorize(mllll_window)(data.mllll) ] # return events with 120 < mllll < 130 GeV\n",
    "    \n",
    "    # example of expanding lep_pt list column into individual columns whilst requiring exactly 4 leptons\n",
    "    # need to change cut_lep_n to require exactly 4 leptons\n",
    "    #data[['lep1_pt','lep2_pt','lep3_pt','lep4_pt']] = pd.DataFrame(data.lep_pt.values.tolist(), index= data.index)\n",
    "\n",
    "    # example of expanding lep_pt list column into individual columns without requiring exactly 4 leptons\n",
    "    # need to do this for columns that you wish to use for fit_BDT\n",
    "    if max(data.lep_n) < 5: \n",
    "       df_split = pd.DataFrame(data['lep_pt'].values.tolist(), columns=['lep1_pt','lep2_pt','lep3_pt','lep4_pt'], index=data.index)\n",
    "       df_split['lep5_pt'] = 0\n",
    "       df_split['lep6_pt'] = 0\n",
    "    elif max(data.lep_n) < 6: \n",
    "       df_split = pd.DataFrame(data['lep_pt'].values.tolist(), columns=['lep1_pt','lep2_pt','lep3_pt','lep4_pt','lep5_pt'], index=data.index)\n",
    "       df_split['lep6_pt'] = 0\n",
    "    else: df_split = pd.DataFrame(data['lep_pt'].values.tolist(), columns=['lep1_pt','lep2_pt','lep3_pt','lep4_pt','lep5_pt','lep6_pt'], index=data.index)\n",
    "    df_split.fillna(0, inplace=True)\n",
    "    data = pd.concat([data, df_split], axis=1)\n",
    "    \n",
    "#     print(data)\n",
    "    \n",
    "    # if you want a variable to be input into your BDT, remove it from the drop function\n",
    "    data.drop([\"lep_n\",\"lep_pt\",\"lep_eta\",\"lep_phi\",\"lep_charge\",\"lep_type\",\"lep_etcone20\",\"lep_trackd0pvunbiased\",\"lep_tracksigd0pvunbiased\"], axis=1, inplace=True)  \n",
    "    \n",
    "    # totalWeight needs to be dropped if you want to do bdt\n",
    "    # if this is done, need to comment out plot_data(data) in bottom cell\n",
    "    if 'Data' not in sample: data.drop([\"totalWeight\"], axis=1, inplace=True)\n",
    "\n",
    "    nOut = len(data.index)\n",
    "\n",
    "    elapsed = time.time() - start\n",
    "    print(\"\\t\\tTime taken: \"+str(elapsed)+\", nIn: \"+str(nIn)+\", nOut: \"+str(nOut))\n",
    "    \n",
    "    return data"
   ]
  },
  {
   "cell_type": "markdown",
   "metadata": {},
   "source": [
    "## Changing an already uncommented cut"
   ]
  },
  {
   "cell_type": "markdown",
   "metadata": {},
   "source": [
    "If you change a cut: Cell -> Run All Below\n",
    "\n",
    "If you uncomment a cut here, you also need to uncomment the corresponding cut in the cell above."
   ]
  },
  {
   "cell_type": "code",
<<<<<<< HEAD
   "execution_count": 13,
=======
   "execution_count": 16,
>>>>>>> 3bfca4d1f4779a7e6f549ea4fa16a5313d4e9755
   "metadata": {},
   "outputs": [],
   "source": [
    "# cut on number of leptons\n",
    "def cut_n_lep(lep_n):\n",
    "    # return when number of leptons is less than 4\n",
    "    return lep_n < 4\n",
    "\n",
    "# cut on lepton charge\n",
    "def cut_lep_charge(lep_charge):\n",
    "    # return when sum of lepton charges is not equal to 0\n",
    "    # exclamation mark (!) means \"not\"\n",
    "    # so != means \"not equal to\"\n",
    "    # first lepton is [0], 2nd lepton is [1] etc\n",
    "    return lep_charge[0] + lep_charge[1] + lep_charge[2] + lep_charge[3] != 0\n",
    "\n",
    "# cut on lepton type\n",
    "def cut_lep_type(lep_type):\n",
    "# for an electron lep_type is 11\n",
    "# for a muon lep_type is 13\n",
    "    sum_lep_type = lep_type[0] + lep_type[1] + lep_type[2] + lep_type[3]\n",
    "    return (lep_type[0]+lep_type[1]+lep_type[2]+lep_type[3] != 44) and (lep_type[0]+lep_type[1]+lep_type[2]+lep_type[3] != 48) and (lep_type[0]+lep_type[1]+lep_type[2]+lep_type[3] != 52)\n",
    "\n",
    "# cut on lepton pt\n",
    "def cut_lep_pt(lep_pt):\n",
    "# want to throw away events where the 2nd highest pt lepton used has lep_pt[1] < 15000\n",
    "# want to throw away events where the 3rd highest pt lepton used has lep_pt[2] < 10000\n",
    "    return (lep_pt[1] > 15000) or (lep_pt[2] > 10000)\n",
    "\n",
    "def cut_lep_pt2(lep_pt):\n",
    "    return np.sum(lep_pt>7000, axis=0)!=4\n",
    "\n",
    "\n",
    "# cut on minimum opposite-charge-same-type lepton pair invariant mass\n",
    "#def cut_mOCST():\n",
    "# want to throw away events if the invariant mass of any opposite-charge-same-type lepton pair is < 5\n",
    "\n",
    "# cut on invariant mass of Z boson candidate 1\n",
    "#def cut_mZ1(mZ1):\n",
    "# want invariant mass of same-type-opposite-charge lepton pair that's closest to Z mass (91 GeV) to be in range 50 < m < 106 GeV\n",
    "\n",
    "# cut on invariant mass of Z boson candidate 2\n",
    "#def cut_mZ2(mZ2):\n",
    "# want invariant mass of remaining lepton pair that's closest to Z mass (91 GeV) to be in range 17.5 < m < 115 GeV\n",
    "# advanced: vary the lower range monotically from 17.5 at mllll=120 to 50 at mllll=190, and constant above mllll=190\n",
    "\n",
    "# cut on deltaR\n",
    "# want to throw away leptons that are separated from all other leptons by deltaR = math.sqrt(delta(lep_eta)**2 + delta(lep_phi)**2) < 0.2\n",
    "# want to throw away leptons that are separated from other leptons of the same type by deltaR = math.sqrt(delta(lep_eta)**2 + delta(lep_phi)**2) < 0.1\n",
    "\n",
    "# example of returning list where every element passes minimum lep_pt requirement\n",
    "# def cut_lep_pt_min(data):\n",
    "#    return (data.lep_pt[i] if data.lep_pt[i] > 6000 for i in range(len(data.lep_pt)))\n",
    "\n",
    "# cut on minimum lepton pt\n",
    "# want to throw away muons with lep_pt < 6000\n",
    "# want to throw away electrons with lep_pt < 7000\n",
    "\n",
    "# cut on maximum lepton etcone20\n",
    "# want to throw away muons with lep_etcone20/lep_pt < 0.3\n",
    "# want to throw away electrons with lep_etcone20/lep_pt < 0.2\n",
    "\n",
    "# cut on maximum lepton d0\n",
    "# want to throw away muons with lep_trackd0pvunbiased/lep_tracksigd0pvunbiased < 3.5\n",
    "# want to throw away electrons with lep_trackd0pvunbiased/lep_tracksigd0pvunbiased < 6.5\n",
    "\n",
    "# example of cutting on length of list passing minimum requirements\n",
    "def cut_n_lep_min(lep_pt_min):\n",
    "   return len(lep_pt_min) < 4"
   ]
  },
  {
   "cell_type": "code",
<<<<<<< HEAD
   "execution_count": 14,
=======
   "execution_count": 17,
>>>>>>> 3bfca4d1f4779a7e6f549ea4fa16a5313d4e9755
   "metadata": {
    "scrolled": true
   },
   "outputs": [
    {
     "name": "stdout",
     "output_type": "stream",
     "text": [
      "data:\n",
      "../Input/Data/skim.DataEgamma.root\n",
      "\tProcessing: DataEgamma\n",
<<<<<<< HEAD
      "\t\tTime taken: 0.055890798568725586, nIn: 89, nOut: 34\n",
      "../Input/Data/skim.DataMuons.root\n",
      "\tProcessing: DataMuons\n",
      "\t\tTime taken: 0.03136849403381348, nIn: 112, nOut: 42\n",
      "$Z,t\\bar{t}$:\n",
      "../Input/MC/skim.mc_147770.Zee.root\n",
      "\tProcessing: Zee\n",
      "\t\tTime taken: 0.09377288818359375, nIn: 720, nOut: 196\n",
      "../Input/MC/skim.mc_147771.Zmumu.root\n",
      "\tProcessing: Zmumu\n",
      "\t\tTime taken: 0.05730462074279785, nIn: 1057, nOut: 254\n",
      "../Input/MC/skim.mc_117050.ttbar_lep.root\n",
      "\tProcessing: ttbar_lep\n",
      "\t\tTime taken: 0.06707096099853516, nIn: 897, nOut: 389\n",
      "ZZ:\n",
      "../Input/MC/skim.mc_105986.ZZ.root\n",
      "\tProcessing: ZZ\n",
      "\t\tTime taken: 0.11612582206726074, nIn: 1973, nOut: 1843\n",
      "$H \\rightarrow ZZ \\rightarrow \\ell\\ell\\ell\\ell$:\n",
      "../Input/MC/skim.mc_160155.ggH125_ZZ4lep.root\n",
      "\tProcessing: ggH125_ZZ4lep\n",
      "\t\tTime taken: 0.8114914894104004, nIn: 21783, nOut: 17884\n",
      "../Input/MC/skim.mc_160205.VBFH125_ZZ4lep.root\n",
      "\tProcessing: VBFH125_ZZ4lep\n",
      "\t\tTime taken: 0.7426927089691162, nIn: 20954, nOut: 17261\n",
      "Time taken: 1.995819091796875\n"
=======
      "\t\tTime taken: 0.053891897201538086, nIn: 89, nOut: 89\n",
      "../Input/Data/skim.DataMuons.root\n",
      "\tProcessing: DataMuons\n",
      "\t\tTime taken: 0.04484295845031738, nIn: 112, nOut: 112\n",
      "$Z,t\\bar{t}$:\n",
      "../Input/MC/skim.mc_147770.Zee.root\n",
      "\tProcessing: Zee\n",
      "\t\tTime taken: 0.06482601165771484, nIn: 720, nOut: 720\n",
      "../Input/MC/skim.mc_147771.Zmumu.root\n",
      "\tProcessing: Zmumu\n",
      "\t\tTime taken: 0.11369633674621582, nIn: 1057, nOut: 1057\n",
      "../Input/MC/skim.mc_117050.ttbar_lep.root\n",
      "\tProcessing: ttbar_lep\n",
      "\t\tTime taken: 0.0718076229095459, nIn: 897, nOut: 897\n",
      "ZZ:\n",
      "../Input/MC/skim.mc_105986.ZZ.root\n",
      "\tProcessing: ZZ\n",
      "\t\tTime taken: 0.10073089599609375, nIn: 1973, nOut: 1973\n",
      "$H \\rightarrow ZZ \\rightarrow \\ell\\ell\\ell\\ell$:\n",
      "../Input/MC/skim.mc_160155.ggH125_ZZ4lep.root\n",
      "\tProcessing: ggH125_ZZ4lep\n",
      "\t\tTime taken: 0.7200751304626465, nIn: 21783, nOut: 21783\n",
      "../Input/MC/skim.mc_160205.VBFH125_ZZ4lep.root\n",
      "\tProcessing: VBFH125_ZZ4lep\n",
      "\t\tTime taken: 0.787400484085083, nIn: 20954, nOut: 20954\n",
      "Time taken: 1.9662466049194336\n"
>>>>>>> 3bfca4d1f4779a7e6f549ea4fa16a5313d4e9755
     ]
    }
   ],
   "source": [
    "if __name__==\"__main__\":\n",
    "    start = time.time()\n",
    "    data = get_data_from_files()\n",
    "    #plot_data(data)\n",
    "    elapsed = time.time() - start\n",
    "    print(\"Time taken: \"+str(elapsed))"
   ]
  },
  {
   "cell_type": "code",
<<<<<<< HEAD
   "execution_count": 15,
=======
   "execution_count": 18,
>>>>>>> 3bfca4d1f4779a7e6f549ea4fa16a5313d4e9755
   "metadata": {},
   "outputs": [],
   "source": [
    "# for sklearn data is usually organised\n",
    "# into one 2D array of shape (n_samples x n_features)\n",
    "# containing all the data and one array of categories\n",
    "# of length n_samples\n",
    "X = np.concatenate((data[r'$H \\rightarrow ZZ \\rightarrow \\ell\\ell\\ell\\ell$'], data[r'$Z,t\\bar{t}$'],data['ZZ']))\n",
    "y = np.concatenate((np.ones(data[r'$H \\rightarrow ZZ \\rightarrow \\ell\\ell\\ell\\ell$'].shape[0]),\n",
    "                    np.zeros(data[r'$Z,t\\bar{t}$'].shape[0]),\n",
    "                    np.zeros(data['ZZ'].shape[0])))"
   ]
  },
  {
   "cell_type": "markdown",
   "metadata": {},
   "source": [
    "## Boxplots\n",
    "\n",
    "A Box plot is a nice way of visualising a distribution by showing it's quantiles. Below we make box plots for the feature <span style=\"color:red\">mllll</span> using <span style=\"color:red\">df.boxplot()</span>. The plot shows the distribution of mllll for signal and background. You can also group the distributions by the any other feature in your dataset."
   ]
  },
  {
   "cell_type": "code",
<<<<<<< HEAD
   "execution_count": 165,
=======
   "execution_count": 19,
>>>>>>> 3bfca4d1f4779a7e6f549ea4fa16a5313d4e9755
   "metadata": {},
   "outputs": [
    {
     "data": {
      "text/plain": [
       "<Figure size 432x288 with 0 Axes>"
      ]
     },
     "metadata": {},
     "output_type": "display_data"
    },
    {
     "data": {
<<<<<<< HEAD
      "image/png": "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\n",
=======
      "image/png": "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\n",
>>>>>>> 3bfca4d1f4779a7e6f549ea4fa16a5313d4e9755
      "text/plain": [
       "<Figure size 432x288 with 1 Axes>"
      ]
     },
     "metadata": {
      "needs_background": "light"
     },
     "output_type": "display_data"
    }
   ],
   "source": [
    "def boxplot(data):\n",
    "    \n",
    "    # boxplot of signal and background mllll\n",
    "    plt.figure()\n",
    "    for s in stack_order:\n",
    "        if s != 'data': data[s]['Process'] = s\n",
    "    data_all = pd.concat([data[r'$Z,t\\bar{t}$'],data['ZZ'],data[r'$H \\rightarrow ZZ \\rightarrow \\ell\\ell\\ell\\ell$']])\n",
    "    data_all.boxplot(by='Process',column=[\"mllll\"])\n",
    "    plt.tight_layout()\n",
    "\n",
    "    return\n",
    "\n",
    "boxplot(data)"
   ]
  },
  {
   "cell_type": "markdown",
   "metadata": {},
   "source": [
    "## The Training and Testing split\n",
    "One of the first things to do is split your data into a training and testing set. This will split your data into train-test sets: 67%-33%. It will also shuffle entries so you will not get the first 67% of <span style=\"color:red\">X</span> for training and the last 33% for testing. This is particularly important in cases where you load all signal events first and then the background events.\n",
    "\n",
    "Here we split our data into two independent samples twice. The first split is to create a development and a evaluation set. All development and performance evaluation will be done with the development set. Once the hyper-parameters and other settings are frozen we can use the evaluation set to get an unbiased estimate of the performance.\n",
    "\n",
    "The development set is further split into a training and testing set. The first will be used for training the classifier and the second to evaluate its performance."
   ]
  },
  {
   "cell_type": "code",
<<<<<<< HEAD
   "execution_count": 16,
=======
   "execution_count": 20,
>>>>>>> 3bfca4d1f4779a7e6f549ea4fa16a5313d4e9755
   "metadata": {},
   "outputs": [],
   "source": [
    "from sklearn.model_selection import train_test_split\n",
    "\n",
    "X_dev,X_eval, y_dev,y_eval = train_test_split(X, y,\n",
    "                                                    test_size=0.33, random_state=42)\n",
    "X_train,X_test, y_train,y_test = train_test_split(X_dev, y_dev,\n",
    "                                                    test_size=0.33, random_state=492)"
   ]
  },
  {
   "cell_type": "markdown",
   "metadata": {},
   "source": [
    "## Training Decision Trees\n",
    "Here we set several hyper-parameters to non default values.\n",
    "\n",
    "After instantiating our <span style=\"color:red\">AdaBoostClassifier</span>, call the <span style=\"color:red\">fit()</span> method with the training sample as an argument. This will train the tree, now we are ready to evaluate the performance on the held out testing set."
   ]
  },
  {
   "cell_type": "code",
<<<<<<< HEAD
   "execution_count": 17,
=======
   "execution_count": 21,
>>>>>>> 3bfca4d1f4779a7e6f549ea4fa16a5313d4e9755
   "metadata": {},
   "outputs": [
    {
     "data": {
      "text/plain": [
       "AdaBoostClassifier(algorithm='SAMME',\n",
       "                   base_estimator=DecisionTreeClassifier(max_depth=3),\n",
       "                   learning_rate=0.5, n_estimators=800)"
      ]
     },
<<<<<<< HEAD
     "execution_count": 17,
=======
     "execution_count": 21,
>>>>>>> 3bfca4d1f4779a7e6f549ea4fa16a5313d4e9755
     "metadata": {},
     "output_type": "execute_result"
    }
   ],
   "source": [
    "from sklearn.tree import DecisionTreeClassifier\n",
    "from sklearn.ensemble import AdaBoostClassifier\n",
    "from sklearn.metrics import classification_report, roc_auc_score\n",
    "\n",
    "dt = DecisionTreeClassifier(max_depth=3)\n",
    "                            #min_samples_leaf=0.05*len(X_train)\n",
    "\n",
    "#dt.fit(X_train, y_train)\n",
    "\n",
    "bdt = AdaBoostClassifier(dt,\n",
    "                        algorithm='SAMME',\n",
    "                        n_estimators=800,\n",
    "                        learning_rate=0.5)\n",
    "\n",
    "bdt.fit(X_train, y_train)"
   ]
  },
  {
   "cell_type": "markdown",
   "metadata": {},
   "source": [
    "The <span style=\"color:red\">fit()</span> method returns the trained classifier. When printed out all the hyper-parameters are listed."
   ]
  },
  {
   "cell_type": "markdown",
   "metadata": {},
   "source": [
    "## Assessing a Classifier's Performance\n",
    "Next let's create a quick report on how well our classifier is doing. It is important to make sure you use samples not seen by the classifier to get an unbiased estimate of its performance."
   ]
  },
  {
   "cell_type": "code",
<<<<<<< HEAD
   "execution_count": 19,
=======
   "execution_count": 22,
>>>>>>> 3bfca4d1f4779a7e6f549ea4fa16a5313d4e9755
   "metadata": {},
   "outputs": [
    {
     "name": "stdout",
     "output_type": "stream",
     "text": [
      "              precision    recall  f1-score   support\n",
      "\n",
<<<<<<< HEAD
      "  background       0.90      0.83      0.86       583\n",
      "      signal       0.99      0.99      0.99      7781\n",
      "\n",
      "    accuracy                           0.98      8364\n",
      "   macro avg       0.94      0.91      0.93      8364\n",
      "weighted avg       0.98      0.98      0.98      8364\n",
      "\n",
      "Area under ROC curve for test data: 0.9806\n"
=======
      "  background       0.93      0.61      0.74      1010\n",
      "      signal       0.96      1.00      0.98      9467\n",
      "\n",
      "    accuracy                           0.96     10477\n",
      "   macro avg       0.95      0.81      0.86     10477\n",
      "weighted avg       0.96      0.96      0.95     10477\n",
      "\n",
      "Area under ROC curve for test data: 0.9419\n"
>>>>>>> 3bfca4d1f4779a7e6f549ea4fa16a5313d4e9755
     ]
    }
   ],
   "source": [
    "y_predicted = bdt.predict(X_test)\n",
    "print (classification_report(y_test, y_predicted,\n",
    "                            target_names=[\"background\", \"signal\"]))\n",
    "print (\"Area under ROC curve for test data: %.4f\"%(roc_auc_score(y_test,\n",
    "                                                    bdt.decision_function(X_test))))"
   ]
  },
  {
   "cell_type": "markdown",
   "metadata": {},
   "source": [
    "To illustrate that point, here's the same performance metrics evaluated on the training set instead. The estimates of the performance are more optimistic than on an unseen set of events."
   ]
  },
  {
   "cell_type": "code",
<<<<<<< HEAD
   "execution_count": 169,
=======
   "execution_count": 23,
>>>>>>> 3bfca4d1f4779a7e6f549ea4fa16a5313d4e9755
   "metadata": {},
   "outputs": [
    {
     "name": "stdout",
     "output_type": "stream",
     "text": [
      "              precision    recall  f1-score   support\n",
      "\n",
<<<<<<< HEAD
      "  background       0.86      0.80      0.83      2148\n",
      "      signal       0.98      0.99      0.98     19122\n",
      "\n",
      "    accuracy                           0.97     21270\n",
      "   macro avg       0.92      0.89      0.91     21270\n",
      "weighted avg       0.97      0.97      0.97     21270\n",
      "\n",
      "Area under ROC curve for training data: 0.9868\n"
=======
      "  background       0.92      0.62      0.74      2148\n",
      "      signal       0.96      0.99      0.98     19122\n",
      "\n",
      "    accuracy                           0.96     21270\n",
      "   macro avg       0.94      0.81      0.86     21270\n",
      "weighted avg       0.96      0.96      0.95     21270\n",
      "\n",
      "Area under ROC curve for training data: 0.9488\n"
>>>>>>> 3bfca4d1f4779a7e6f549ea4fa16a5313d4e9755
     ]
    }
   ],
   "source": [
    "y_predicted = bdt.predict(X_train)\n",
    "print (classification_report(y_train, y_predicted,\n",
    "                            target_names=[\"background\", \"signal\"]))\n",
    "print (\"Area under ROC curve for training data: %.4f\"%(roc_auc_score(y_train,\n",
    "                                                    bdt.decision_function(X_train))))"
   ]
  },
  {
   "cell_type": "markdown",
   "metadata": {},
   "source": [
    "Another useful plot to judge the performance of a classifier is to look at the ROC curve directly."
   ]
  },
  {
   "cell_type": "code",
<<<<<<< HEAD
   "execution_count": 170,
=======
   "execution_count": 24,
>>>>>>> 3bfca4d1f4779a7e6f549ea4fa16a5313d4e9755
   "metadata": {},
   "outputs": [
    {
     "data": {
<<<<<<< HEAD
      "image/png": "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\n",
=======
      "image/png": "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\n",
>>>>>>> 3bfca4d1f4779a7e6f549ea4fa16a5313d4e9755
      "text/plain": [
       "<Figure size 432x288 with 1 Axes>"
      ]
     },
     "metadata": {
      "needs_background": "light"
     },
     "output_type": "display_data"
    }
   ],
   "source": [
    "from sklearn.metrics import roc_curve, auc\n",
    "\n",
    "decisions = bdt.decision_function(X_test)\n",
    "# Compute ROC curve and area under the curve\n",
    "fpr, tpr, thresholds = roc_curve(y_test, decisions)\n",
    "roc_auc = auc(fpr, tpr)\n",
    "plt.figure()\n",
    "plt.plot(fpr, tpr, lw=1, label='ROC (area = %0.3f)'%(roc_auc))\n",
    "\n",
    "plt.plot([0, 1], [0, 1], '--', color=(0.6, 0.6, 0.6), label='Luck')\n",
    "plt.xlim([-0.05, 1.05])\n",
    "plt.ylim([-0.05, 1.05])\n",
    "plt.xlabel('False Positive Rate')\n",
    "plt.ylabel('True Positive Rate')\n",
    "plt.title('Receiver operating characteristic')\n",
    "plt.legend(loc=\"lower right\")\n",
    "plt.grid()\n",
    "plt.show()"
   ]
  },
  {
   "cell_type": "markdown",
   "metadata": {},
   "source": [
    "## Overtraining Check\n",
    "Comparing the BDT's output distribution for the training and testing set is a popular way in HEP to check for overtraining. The <span style=\"color:red\">compare_test_train()</span> method will plot the BDT's decision function for each class, as well as overlaying it with the shape of the decision function in the training set."
   ]
  },
  {
   "cell_type": "code",
<<<<<<< HEAD
   "execution_count": 20,
=======
   "execution_count": 25,
>>>>>>> 3bfca4d1f4779a7e6f549ea4fa16a5313d4e9755
   "metadata": {},
   "outputs": [
    {
     "data": {
<<<<<<< HEAD
      "image/png": "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\n",
=======
      "image/png": "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\n",
>>>>>>> 3bfca4d1f4779a7e6f549ea4fa16a5313d4e9755
      "text/plain": [
       "<Figure size 432x288 with 1 Axes>"
      ]
     },
     "metadata": {
      "needs_background": "light"
     },
     "output_type": "display_data"
    }
   ],
   "source": [
    "def compare_train_test(clf, X_train, y_train, X_test, y_test, bins=30):\n",
    "    decisions = []\n",
    "    for X,y in ((X_train, y_train), (X_test, y_test)):\n",
    "        d1 = clf.decision_function(X[y>0.5]).ravel()\n",
    "        d2 = clf.decision_function(X[y<0.5]).ravel()\n",
    "        decisions += [d1, d2]\n",
    "        \n",
    "    low = min(np.min(d) for d in decisions)\n",
    "    high = max(np.max(d) for d in decisions)\n",
    "    low_high = (low,high)\n",
    "    \n",
    "    plt.hist(decisions[0],\n",
    "             color='r', alpha=0.5, range=low_high, bins=bins,\n",
    "             histtype='stepfilled', density=True,\n",
    "             label='S (train)')\n",
    "    plt.hist(decisions[1],\n",
    "             color='b', alpha=0.5, range=low_high, bins=bins,\n",
    "             histtype='stepfilled', density=True,\n",
    "             label='B (train)')\n",
    "\n",
    "    hist, bins = np.histogram(decisions[2],\n",
    "                              bins=bins, range=low_high, density=True)\n",
    "    scale = len(decisions[2]) / sum(hist)\n",
    "    err = np.sqrt(hist * scale) / scale\n",
    "    \n",
    "    width = (bins[1] - bins[0])\n",
    "    center = (bins[:-1] + bins[1:]) / 2\n",
    "    plt.errorbar(center, hist, yerr=err, fmt='o', c='r', label='S (test)')\n",
    "    \n",
    "    hist, bins = np.histogram(decisions[3],\n",
    "                              bins=bins, range=low_high, density=True)\n",
    "    scale = len(decisions[2]) / sum(hist)\n",
    "    err = np.sqrt(hist * scale) / scale\n",
    "\n",
    "    plt.errorbar(center, hist, yerr=err, fmt='o', c='b', label='B (test)')\n",
    "    \n",
    "    plt.xlabel(\"BDT output\")\n",
    "    plt.ylabel(\"Arbitrary units\")\n",
    "    plt.legend(loc='best')\n",
    "\n",
    "    \n",
    "compare_train_test(bdt, X_train, y_train, X_test, y_test)"
   ]
  },
  {
   "cell_type": "code",
   "execution_count": null,
   "metadata": {},
   "outputs": [],
   "source": []
  }
 ],
 "metadata": {
  "kernelspec": {
   "display_name": "Python 3",
   "language": "python",
   "name": "python3"
  },
  "language_info": {
   "codemirror_mode": {
    "name": "ipython",
    "version": 3
   },
   "file_extension": ".py",
   "mimetype": "text/x-python",
   "name": "python",
   "nbconvert_exporter": "python",
   "pygments_lexer": "ipython3",
   "version": "3.8.5"
  }
 },
 "nbformat": 4,
 "nbformat_minor": 4
}
