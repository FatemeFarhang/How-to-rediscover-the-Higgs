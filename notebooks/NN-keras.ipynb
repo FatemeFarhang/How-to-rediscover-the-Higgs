{
 "cells": [
  {
   "cell_type": "markdown",
   "metadata": {},
   "source": [
    "# How to rediscover the Higgs boson yourself! - Neural Network\n",
    "This notebook uses ATLAS Open Data http://opendata.atlas.cern to show you the steps to rediscover the Higgs boson yourself!\n",
    "\n",
    "The idea is that you improve upon the example Neural Network to increase the ratio of signal ($H \\rightarrow ZZ \\rightarrow \\ell\\ell\\ell\\ell$) to background ($Z, t\\bar{t}, ZZ \\rightarrow \\ell\\ell\\ell\\ell$)\n",
    "\n",
    "First, try to reduce the amount of $Z$ and $t\\bar{t}$ background, since these are quite different to the signal.\n",
    "\n",
    "Then, try to reduce the amount of $ZZ \\rightarrow \\ell\\ell\\ell\\ell$, whilst keeping $H \\rightarrow ZZ \\rightarrow \\ell\\ell\\ell\\ell$ signal\n",
    "\n",
    "The datasets used in this notebook have already been filtered to include at least 4 leptons per event, so that processing is quicker.\n",
    "\n",
    "This notebook was inspired by https://github.com/FNALLPC/machine-learning-hats/blob/master/3-dense.ipynb"
   ]
  },
  {
   "cell_type": "markdown",
   "metadata": {},
   "source": [
    "<!-- <CENTER><img src=\"../HZZ_feynman.pdf\" style=\"width:40%\"></CENTER> -->"
   ]
  },
  {
   "cell_type": "markdown",
   "metadata": {},
   "source": [
    "## First time setup\n",
    "This first cell only needs to be run the first time you open this notebook on your computer. \n",
    "\n",
    "If you close jupyter and re-open on the same computer, you won't need to run this first cell again.\n",
    "\n",
    "If you re-open on binder, you will need to run this cell again.\n",
    "\n",
    "If you run into a problem of \"uproot not being available\", Kernel -> Restart & Run All"
   ]
  },
  {
   "cell_type": "code",
   "execution_count": null,
   "metadata": {},
   "outputs": [],
   "source": [
    "import sys\n",
    "!{sys.executable} -m pip install --upgrade --user pip\n",
    "!{sys.executable} -m pip install -U numpy pandas uproot matplotlib keras scikit-learn --user"
   ]
  },
  {
   "cell_type": "markdown",
   "metadata": {},
   "source": [
    "## To setup everytime\n",
    "Cell -> Run All Below\n",
    "\n",
    "to be done every time you re-open this notebook"
   ]
  },
  {
   "cell_type": "code",
<<<<<<< HEAD
   "execution_count": 27,
=======
   "execution_count": 1,
>>>>>>> 3bfca4d1f4779a7e6f549ea4fa16a5313d4e9755
   "metadata": {},
   "outputs": [],
   "source": [
    "import uproot\n",
    "import pandas as pd\n",
    "import time\n",
    "import math\n",
    "import numpy as np\n",
    "import matplotlib.pyplot as plt\n",
    "import glob\n",
    "import random\n",
    "\n",
    "import infofile"
   ]
  },
  {
   "cell_type": "code",
<<<<<<< HEAD
   "execution_count": 28,
=======
   "execution_count": 2,
>>>>>>> 3bfca4d1f4779a7e6f549ea4fa16a5313d4e9755
   "metadata": {},
   "outputs": [],
   "source": [
    "lumi = 1000\n",
    "                                                                                                                                  \n",
    "tuple_path = \"../Input/\"\n",
    "\n",
    "stack_order = ['data',r'$Z,t\\bar{t}$','ZZ',r'$H \\rightarrow ZZ \\rightarrow \\ell\\ell\\ell\\ell$']"
   ]
  },
  {
   "cell_type": "code",
<<<<<<< HEAD
   "execution_count": 29,
=======
   "execution_count": 3,
>>>>>>> 3bfca4d1f4779a7e6f549ea4fa16a5313d4e9755
   "metadata": {},
   "outputs": [],
   "source": [
    "samples = {\n",
    "\n",
    "    'data': {\n",
    "        'list' : ['DataEgamma','DataMuons']\n",
    "    },\n",
    "\n",
    "    r'$Z,t\\bar{t}$' : {\n",
    "        'list' : ['Zee','Zmumu','ttbar_lep'],\n",
    "        'color' : \"#8700da\"\n",
    "    },\n",
    "\n",
    "    'ZZ' : {\n",
    "        'list' : ['ZZ'],\n",
    "        'color' : \"#f90000\"\n",
    "    },\n",
    "\n",
    "    r'$H \\rightarrow ZZ \\rightarrow \\ell\\ell\\ell\\ell$' : {\n",
    "        'list' : ['ggH125_ZZ4lep','VBFH125_ZZ4lep'],\n",
    "        'color' : \"#4faeff\"\n",
    "    }\n",
    "\n",
    "}"
   ]
  },
  {
   "cell_type": "code",
<<<<<<< HEAD
   "execution_count": 30,
=======
   "execution_count": 4,
>>>>>>> 3bfca4d1f4779a7e6f549ea4fa16a5313d4e9755
   "metadata": {},
   "outputs": [],
   "source": [
    "def get_data_from_files():\n",
    "\n",
    "    data = {}\n",
    "\n",
    "    for s in samples:\n",
    "        print(s+':')\n",
    "        frames = []\n",
    "        for val in samples[s]['list']:\n",
    "            prefix = \"MC/skim.mc_\"\n",
    "            if s == 'data':\n",
    "                prefix = \"Data/skim.\"\n",
    "            else: prefix += str(infofile.infos[val][\"DSID\"])+\".\"\n",
    "            fileString = tuple_path+prefix+val+\".root\"\n",
    "            print(fileString)\n",
    "            f = glob.glob(fileString,recursive=False)[0]\n",
    "            if f != \"\":\n",
    "                temp = read_file(f,val)\n",
    "                frames.append(temp)\n",
    "            else:\n",
    "                print(\"Error: \"+val+\" not found!\")\n",
    "        data[s] = pd.concat(frames)\n",
    "\n",
    "    return data"
   ]
  },
  {
   "cell_type": "code",
<<<<<<< HEAD
   "execution_count": 31,
=======
   "execution_count": 5,
>>>>>>> 3bfca4d1f4779a7e6f549ea4fa16a5313d4e9755
   "metadata": {},
   "outputs": [],
   "source": [
    "def mllll_window(mllll):\n",
    "    return 120 < mllll < 130"
   ]
  },
  {
   "cell_type": "code",
<<<<<<< HEAD
   "execution_count": 32,
=======
   "execution_count": 6,
>>>>>>> 3bfca4d1f4779a7e6f549ea4fa16a5313d4e9755
   "metadata": {},
   "outputs": [],
   "source": [
    "def calc_weight(mcWeight,scaleFactor_PILEUP,scaleFactor_ELE,\n",
    "                scaleFactor_MUON, scaleFactor_TRIGGER):\n",
    "    return mcWeight*scaleFactor_PILEUP*scaleFactor_ELE*scaleFactor_MUON*scaleFactor_TRIGGER"
   ]
  },
  {
   "cell_type": "code",
<<<<<<< HEAD
   "execution_count": 33,
=======
   "execution_count": 7,
>>>>>>> 3bfca4d1f4779a7e6f549ea4fa16a5313d4e9755
   "metadata": {},
   "outputs": [],
   "source": [
    "def get_xsec_weight(totalWeight,sample):\n",
    "    info = infofile.infos[sample]\n",
    "    weight = (lumi*info[\"xsec\"])/(info[\"sumw\"]*info[\"red_eff\"])\n",
    "    weight *= totalWeight\n",
    "    return weight"
   ]
  },
  {
   "cell_type": "code",
<<<<<<< HEAD
   "execution_count": 34,
=======
   "execution_count": 8,
>>>>>>> 3bfca4d1f4779a7e6f549ea4fa16a5313d4e9755
   "metadata": {},
   "outputs": [],
   "source": [
    "def correlations(data, title, **kwds):\n",
    "    \"\"\"Calculate pairwise correlation between features.\n",
    "    \n",
    "    Extra arguments are passed on to DataFrame.corr()\n",
    "    \"\"\"\n",
    "    # simply call df.corr() to get a table of\n",
    "    # correlation values if you do not need\n",
    "    # the fancy plotting\n",
    "    corrmat = data.corr(**kwds)\n",
    "\n",
    "    fig, ax1 = plt.subplots(ncols=1, figsize=(6,5))\n",
    "    \n",
    "    opts = {'cmap': plt.get_cmap(\"RdBu\"),\n",
    "            'vmin': -1, 'vmax': +1}\n",
    "    heatmap1 = ax1.pcolor(corrmat, **opts)\n",
    "    plt.colorbar(heatmap1, ax=ax1)\n",
    "\n",
    "    ax1.set_title(title+\" Correlations\")\n",
    "\n",
    "    labels = corrmat.columns.values\n",
    "    for ax in (ax1,):\n",
    "        # shift location of ticks to center of the bins\n",
    "        ax.set_xticks(np.arange(len(labels))+0.5, minor=False)\n",
    "        ax.set_yticks(np.arange(len(labels))+0.5, minor=False)\n",
    "        ax.set_xticklabels(labels, minor=False, ha='right', rotation=70)\n",
    "        ax.set_yticklabels(labels, minor=False)\n",
    "        \n",
    "    plt.tight_layout()"
   ]
  },
  {
   "cell_type": "code",
<<<<<<< HEAD
   "execution_count": 35,
=======
   "execution_count": 9,
>>>>>>> 3bfca4d1f4779a7e6f549ea4fa16a5313d4e9755
   "metadata": {},
   "outputs": [],
   "source": [
    "def plot_data(data):\n",
    "\n",
    "    bins = [80 + x*5 for x in range(35) ]\n",
    "    data_x = [82.5 + x*5 for x in range(34) ]\n",
    "\n",
    "    data_mllll = []\n",
    "    data_mllll_errors = []\n",
    "\n",
    "    mc_mllll = []\n",
    "    mc_weights = []\n",
    "    mc_colors = []\n",
    "    mc_labels = []\n",
    "    mc_in_mllll_window = [] # list for numbers of MC events with 120 < mllll < 130 GeV\n",
    "\n",
    "    for s in stack_order:\n",
    "        if s == \"data\":\n",
    "            data_mllll,_ = np.histogram(data[s].mllll.values, bins=bins)\n",
    "            data_mllll_errors = np.sqrt(data_mllll)\n",
    "        else:\n",
    "            mc_labels.append(s)\n",
    "            mc_mllll.append(data[s].mllll.values)\n",
    "            mc_colors.append(samples[s]['color'])\n",
    "            mc_weights.append(data[s].totalWeight.values)\n",
    "            mc_in_mllll_window.append([data[s].totalWeight.values[mllll_iter] for mllll_iter in range(len(data[s].mllll.values)) if 120 < data[s].mllll.values[mllll_iter] < 130])\n",
    "    \n",
    "    HZZ_in_mllll_window = sum(mc_in_mllll_window[2]) # number signal MC events with 120 < mllll < 130 GeV\n",
    "    background_in_mllll_window = sum(mc_in_mllll_window[0]+mc_in_mllll_window[1]) # number background MC events with 120 < mllll < 130 GeV\n",
    "    SoversqrtB = HZZ_in_mllll_window/math.sqrt(background_in_mllll_window) # calculate significance\n",
    "    print('Signal/sqrt(Background) for 120<mllll<130 '+str(SoversqrtB))\n",
    "    \n",
    "    top = np.amax(data_mllll)+math.sqrt(np.amax(data_mllll))\n",
    "\n",
    "    plt.figure()\n",
    "    plt.hist(mc_mllll,bins=bins,weights=mc_weights,stacked=True,color=mc_colors, label=mc_labels)\n",
    "    plt.errorbar( x=data_x, y=data_mllll, yerr=data_mllll_errors, fmt='ko', label='Data')\n",
    "\n",
    "    #X = np.arange(115,135,5) # gives list [115,120,125,130]\n",
    "    #data_in_window = data_mllll[7:11] # gives list of data y value for [115,120,125,130]\n",
    "    #x = np.sum(X*data_in_window)/np.sum(data_in_window) # Gaussian mean\n",
    "    #width = np.sqrt(np.abs(np.sum((X-x)**2*data_in_window)/np.sum(data_in_window))) # Gaussian width\n",
    "    #fit = lambda t : np.amax(data_in_window)*np.exp(-(t-x)**2/(2*width**2)) # Gaussian fit\n",
    "    #plt.plot(X, fit(X), '-') # plot Gaussian\n",
    "    \n",
    "    plt.xlabel(r'$M_{\\ell\\ell\\ell\\ell}$ [GeV]',fontname='sans-serif',horizontalalignment='right',x=1.0,fontsize=11)\n",
    "\n",
    "    plt.ylabel(r'Events',fontname='sans-serif',horizontalalignment='right',y=1.0,fontsize=11)\n",
    "    #plt.yscale('log')                                                                                                                                                                        \n",
    "    plt.ylim(bottom=0,top=top)\n",
    "\n",
    "    ax = plt.gca()\n",
    "    plt.text(0.05,0.97,r'$\\mathbf{{ATLAS}}$ Open Data',ha=\"left\",va=\"top\",family='sans-serif',transform=ax.transAxes,fontsize=13)\n",
    "    plt.text(0.05,0.92,'for education only',ha=\"left\",va=\"top\",family='sans-serif',transform=ax.transAxes,style='italic',fontsize=8)\n",
    "    plt.text(0.05,0.9,r'$\\sqrt{s}=8\\,\\mathrm{TeV},\\;\\int L\\,dt=1\\,\\mathrm{fb}^{-1}$',ha=\"left\",va=\"top\",family='sans-serif',transform=ax.transAxes)\n",
    "\n",
    "    plt.legend()\n",
    "\n",
    "    plt.savefig(\"plot.pdf\")\n",
    "    \n",
    "    # scatter plot of signal and background lep_n vs mllll\n",
    "    #plt.figure()\n",
    "    #for s in stack_order:\n",
    "    #    if s != 'data': plt.scatter(data[s].lep_n,data[s].mllll,color=samples[s]['color'],label=s)\n",
    "    #plt.xlabel(r'Leptons',fontname='sans-serif',horizontalalignment='right',y=1.0,fontsize=11)\n",
    "    #plt.ylabel(r'$M_{\\ell\\ell\\ell\\ell}$ [GeV]',fontname='sans-serif',horizontalalignment='right',x=1.0,fontsize=11)\n",
    "    #plt.legend()\n",
    "    \n",
    "    # scatter plot of signal and background lep_pt[0] vs mllll\n",
    "    #plt.figure()\n",
    "    #for s in stack_order:\n",
    "    #    if s != 'data': plt.scatter(data[s].lep_pt.apply(lambda x: x[0]),data[s].mllll,color=samples[s]['color'],label=s)\n",
    "    #plt.legend()\n",
    "    \n",
    "    # boxplot of signal and background mllll\n",
    "    #plt.figure()\n",
    "    #for s in stack_order:\n",
    "    #    if s != 'data': data[s]['Process'] = s\n",
    "    #data_all = pd.concat([data[r'$Z,t\\bar{t}$'],data['ZZ'],data[r'$H \\rightarrow ZZ \\rightarrow \\ell\\ell\\ell\\ell$']])\n",
    "    #data_all.boxplot(by='Process',column=[\"mllll\"])\n",
    "    \n",
    "    # plot correlation matrices for signal and background\n",
    "    #correlations(pd.concat([data[r'$Z,t\\bar{t}$'],data['ZZ']]),\"background\")\n",
    "    #correlations(data[r'$H \\rightarrow ZZ \\rightarrow \\ell\\ell\\ell\\ell$'], \"signal\")\n",
    "\n",
    "    return"
   ]
  },
  {
   "cell_type": "code",
<<<<<<< HEAD
   "execution_count": 36,
=======
   "execution_count": 10,
>>>>>>> 3bfca4d1f4779a7e6f549ea4fa16a5313d4e9755
   "metadata": {},
   "outputs": [],
   "source": [
    "def calc_mllll(lep_pts,lep_etas,lep_phis):\n",
    "    theta_0 = 2*math.atan(math.exp(-lep_etas[0]))\n",
    "    theta_1 = 2*math.atan(math.exp(-lep_etas[1]))\n",
    "    theta_2 = 2*math.atan(math.exp(-lep_etas[2]))\n",
    "    theta_3 = 2*math.atan(math.exp(-lep_etas[3]))\n",
    "    p_0 = lep_pts[0]/math.sin(theta_0)\n",
    "    p_1 = lep_pts[1]/math.sin(theta_1)\n",
    "    p_2 = lep_pts[2]/math.sin(theta_2)\n",
    "    p_3 = lep_pts[3]/math.sin(theta_3)\n",
    "    pz_0 = p_0*math.cos(theta_0)\n",
    "    pz_1 = p_1*math.cos(theta_1)\n",
    "    pz_2 = p_2*math.cos(theta_2)\n",
    "    pz_3 = p_3*math.cos(theta_3)\n",
    "    px_0 = p_0*math.sin(theta_0)*math.cos(lep_phis[0])\n",
    "    px_1 = p_1*math.sin(theta_1)*math.cos(lep_phis[1])\n",
    "    px_2 = p_2*math.sin(theta_2)*math.cos(lep_phis[2])\n",
    "    px_3 = p_3*math.sin(theta_3)*math.cos(lep_phis[3])\n",
    "    py_0 = p_0*math.sin(theta_0)*math.sin(lep_phis[0])\n",
    "    py_1 = p_1*math.sin(theta_1)*math.sin(lep_phis[1])\n",
    "    py_2 = p_2*math.sin(theta_2)*math.sin(lep_phis[2])\n",
    "    py_3 = p_3*math.sin(theta_3)*math.sin(lep_phis[3])\n",
    "    sumpz = pz_0 + pz_1 + pz_2 + pz_3\n",
    "    sumpx = px_0 + px_1 + px_2 + px_3\n",
    "    sumpy = py_0 + py_1 + py_2 + py_3\n",
    "    sumE = p_0 + p_1 + p_2 + p_3\n",
    "    mllll = sumE**2 - sumpz**2 - sumpx**2 - sumpy**2\n",
    "    return math.sqrt(mllll)/1000."
   ]
  },
  {
   "cell_type": "code",
<<<<<<< HEAD
   "execution_count": 37,
=======
   "execution_count": 11,
>>>>>>> 3bfca4d1f4779a7e6f549ea4fa16a5313d4e9755
   "metadata": {},
   "outputs": [],
   "source": [
    "def calc_mll(lep_pts,lep_etas,lep_phis):\n",
    "    # this is only pseudo-code to tell you what to do!\n",
    "    # you need to decide how to find i & j yourself\n",
    "    mll = 2*lep_pts[i]*lep_pts[j!=i]\n",
    "    cosh = math.cosh(lep_etas[i]-lep_etas[j!=i])\n",
    "    cos = math.cos(lep_phis[i]-lep_phis[j!=i])\n",
    "    mll *= ( cosh - cos )\n",
    "    return math.sqrt(mll)/1000."
   ]
  },
  {
   "cell_type": "markdown",
   "metadata": {},
   "source": [
    "## Uncommenting a new cut\n",
    "If you add a cut: Cell -> Run All Below"
   ]
  },
  {
   "cell_type": "code",
<<<<<<< HEAD
   "execution_count": 79,
=======
   "execution_count": 15,
>>>>>>> 3bfca4d1f4779a7e6f549ea4fa16a5313d4e9755
   "metadata": {},
   "outputs": [],
   "source": [
    "def read_file(path,sample):\n",
    "    start = time.time()\n",
    "    print(\"\\tProcessing: \"+sample)\n",
    "    mc = uproot.open(path)[\"mini\"]\n",
<<<<<<< HEAD
    "\n",
    "## --------------------------------------------------------------------------------------------------\n",
    "## This is the only part that we needed to change to sort compability with 'uproot v.4.1'.\n",
    "\n",
    "#     data = mc.pandas.df([\"lep_n\",\"lep_pt\",\"lep_eta\",\"lep_phi\",\"lep_charge\",\"lep_type\",\"lep_etcone20\",\"lep_trackd0pvunbiased\",\"lep_tracksigd0pvunbiased\",\n",
    "#                          \"mcWeight\",\"scaleFactor_PILEUP\",\"scaleFactor_ELE\",\"scaleFactor_MUON\", # add more variables here if you make cuts on them\n",
    "#                          \"scaleFactor_TRIGGER\"], flatten=False)\n",
    "\n",
    "    data = pd.DataFrame(mc.arrays([\"lep_n\",\"lep_pt\",\"lep_eta\",\"lep_phi\",\"lep_charge\",\"lep_type\",\"lep_etcone20\",\"lep_trackd0pvunbiased\",\"lep_tracksigd0pvunbiased\",\n",
    "                         \"mcWeight\",\"scaleFactor_PILEUP\",\"scaleFactor_ELE\",\"scaleFactor_MUON\", # add more variables here if you make cuts on them\n",
    "                         \"scaleFactor_TRIGGER\"], library ='np')\n",
    "                       )\n",
    "## ---------------------------------------------------------------------------------------------------\n",
    "    \n",
=======
    "#     data = mc.pandas.df([\"lep_n\",\"lep_pt\",\"lep_eta\",\"lep_phi\",\"lep_charge\",\"lep_type\",\"lep_etcone20\",\"lep_trackd0pvunbiased\",\"lep_tracksigd0pvunbiased\",\n",
    "#                          \"mcWeight\",\"scaleFactor_PILEUP\",\"scaleFactor_ELE\",\"scaleFactor_MUON\", # add more variables here if you make cuts on them\n",
    "#                          \"scaleFactor_TRIGGER\"], flatten=False)\n",
    "    data = pd.DataFrame(mc.arrays([\"lep_n\",\"lep_pt\",\"lep_eta\",\"lep_phi\",\"lep_charge\",\"lep_type\",\"lep_etcone20\",\"lep_trackd0pvunbiased\",\"lep_tracksigd0pvunbiased\",\n",
    "                         \"mcWeight\",\"scaleFactor_PILEUP\",\"scaleFactor_ELE\",\"scaleFactor_MUON\", # add more variables here if you make cuts on them\n",
    "                         \"scaleFactor_TRIGGER\"], library ='np') #,columns = [\"lep_n\",\"lep_pt\",\"lep_eta\",\"lep_phi\",\"lep_charge\",\"lep_type\",\"lep_etcone20\",\"lep_trackd0pvunbiased\",\"lep_tracksigd0pvunbiased\",\"mcWeight\",\"scaleFactor_PILEUP\",\"scaleFactor_ELE\",\"scaleFactor_MUON\",\"scaleFactor_TRIGGER\"]\n",
    "                       )\n",
>>>>>>> 3bfca4d1f4779a7e6f549ea4fa16a5313d4e9755
    "    nIn = len(data.index)\n",
    "\n",
    "    if 'Data' not in sample:\n",
    "        data['totalWeight'] = np.vectorize(calc_weight)(data.mcWeight,data.scaleFactor_PILEUP,data.scaleFactor_ELE,data.scaleFactor_MUON,data.scaleFactor_TRIGGER)\n",
    "        data['totalWeight'] = np.vectorize(get_xsec_weight)(data.totalWeight,sample)\n",
    "\n",
    "    data.drop([\"mcWeight\",\"scaleFactor_PILEUP\",\"scaleFactor_ELE\",\"scaleFactor_MUON\",\"scaleFactor_TRIGGER\"], axis=1, inplace=True)\n",
    "    \n",
    "    # cut on minimum lepton pt\n",
    "    \n",
    "    # cut on lepton etcone20\n",
    "    \n",
    "    # cut on lepton d0\n",
    "    \n",
    "    # example of adding column that takes the return of the function cut_lep_pt_min\n",
    "    #data['lep_pt_min'] = data.apply(cut_lep_pt_min,axis=1)\n",
    "    \n",
    "    # example of cut on minimum number of leptons passing baseline requirements\n",
    "    #fail = data[ np.vectorize(cut_n_lep_min)(data.lep_pt_min) ].index\n",
    "    #data.drop(fail, inplace=True)\n",
    "    \n",
    "    # cut on number of leptons\n",
    "#     fail = data[ np.vectorize(cut_n_lep)(data.lep_n) ].index\n",
    "#     data.drop(fail, inplace=True)\n",
    "\n",
    "    # cut on lepton charge\n",
    "#     fail = data[ np.vectorize(cut_lep_charge)(data.lep_charge) ].index\n",
    "#     data.drop(fail, inplace=True)\n",
    "    \n",
    "    #print(data)\n",
    "    \n",
    "#     # cut on lepton type\n",
    "#     fail = data[ np.vectorize(cut_lep_type)(data.lep_type) ].index\n",
    "#     data.drop(fail, inplace=True)\n",
    "    \n",
    "    # cut on lepton pt\n",
    "    fail = data[ np.vectorize(cut_lep_pt2)(data.lep_pt) ].index\n",
    "    data.drop(fail, inplace=True)\n",
    "    \n",
    "    # cut on deltaR\n",
    "    #fail = data[ np.vectorize(cut_deltaR)(data.lep_eta,data.lep_phi...\n",
    "    #data.drop(fail, inplace=True)\n",
    "    \n",
    "    # cut on minimum opposite-charge-same-type lepton pair invariant mass\n",
    "    #fail = data[ np.vectorize(cut_OCST)(data....\n",
    "\n",
    "    # calculation of Z boson candidate 1 invariant mass\n",
    "    #data['mZ1'] = np.vectorize(calc_mZ1)(data.lep_pt,data.lep_eta,data.lep_phi)\n",
    "    \n",
    "    # cut on mZ1\n",
    "    #fail = data[ np.vectorize(cut_mZ1)(data.mZ1) ].index\n",
    "    #data.drop(fail, inplace=True)\n",
    "    \n",
    "    # calculation of Z boson candidate 2 invariant mass\n",
    "    #data['mZ2'] = np.vectorize(calc_mZ2)(data....\n",
    "    \n",
    "    # cut on mZ2\n",
    "    #fail = data[ np.vectorize(cut_mZ2)(data.mZ2) ].index\n",
    "    #data.drop(fail, inplace=True)\n",
    "    \n",
    "    # calculation of 4-lepton invariant mass\n",
    "    data['mllll'] = np.vectorize(calc_mllll)(data.lep_pt,data.lep_eta,data.lep_phi)\n",
    "\n",
    "    mllll_window_list = data[ np.vectorize(mllll_window)(data.mllll) ] # return events with 120 < mllll < 130 GeV\n",
    "    \n",
    "    # example of expanding lep_pt list column into individual columns whilst requiring exactly 4 leptons\n",
    "    # need to change cut_lep_n to require exactly 4 leptons\n",
    "    #data[['lep1_pt','lep2_pt','lep3_pt','lep4_pt']] = pd.DataFrame(data.lep_pt.values.tolist(), index= data.index)\n",
    "\n",
    "    # example of expanding lep_pt list column into individual columns without requiring exactly 4 leptons\n",
    "    # need to do this for columns that you wish to use for fit_BDT\n",
    "    #if max(data.lep_n) < 5: \n",
    "    #    df_split = pd.DataFrame(data['lep_pt'].values.tolist(), columns=['lep1_pt','lep2_pt','lep3_pt','lep4_pt'], index=data.index)\n",
    "    #    df_split['lep5_pt'] = 0\n",
    "    #    df_split['lep6_pt'] = 0\n",
    "    #elif max(data.lep_n) < 6: \n",
    "    #    df_split = pd.DataFrame(data['lep_pt'].values.tolist(), columns=['lep1_pt','lep2_pt','lep3_pt','lep4_pt','lep5_pt'], index=data.index)\n",
    "    #    df_split['lep6_pt'] = 0\n",
    "    #else: df_split = pd.DataFrame(data['lep_pt'].values.tolist(), columns=['lep1_pt','lep2_pt','lep3_pt','lep4_pt','lep5_pt','lep6_pt'], index=data.index)\n",
    "    #df_split.fillna(0, inplace=True)\n",
    "    #data = pd.concat([data, df_split], axis=1)\n",
    "    \n",
    "    #print(data)\n",
    "    \n",
    "    # if you want a variable to be input into your BDT, remove it from the drop function\n",
    "    data.drop([\"lep_n\",\"lep_pt\",\"lep_eta\",\"lep_phi\",\"lep_charge\",\"lep_type\",\"lep_etcone20\",\"lep_trackd0pvunbiased\",\"lep_tracksigd0pvunbiased\"], axis=1, inplace=True)  \n",
    "    \n",
    "    # totalWeight needs to be dropped if you want to do bdt\n",
    "    # if this is done, need to comment out plot_data(data) in bottom cell\n",
    "    #if 'Data' not in sample: data.drop([\"totalWeight\"], axis=1, inplace=True)\n",
    "\n",
    "    nOut = len(data.index)\n",
    "\n",
    "    elapsed = time.time() - start\n",
    "    print(\"\\t\\tTime taken: \"+str(elapsed)+\", nIn: \"+str(nIn)+\", nOut: \"+str(nOut))\n",
    "    \n",
    "    return data"
   ]
  },
  {
   "cell_type": "markdown",
   "metadata": {},
   "source": [
    "## Changing an already uncommented cut"
   ]
  },
  {
   "cell_type": "markdown",
   "metadata": {},
   "source": [
    "If you change a cut: Cell -> Run All Below\n",
    "\n",
    "If you uncomment a cut here, you also need to uncomment the corresponding cut in the cell above."
   ]
  },
  {
   "cell_type": "code",
<<<<<<< HEAD
   "execution_count": 78,
=======
   "execution_count": 13,
>>>>>>> 3bfca4d1f4779a7e6f549ea4fa16a5313d4e9755
   "metadata": {},
   "outputs": [],
   "source": [
    "# cut on number of leptons\n",
    "def cut_n_lep(lep_n):\n",
    "    # return when number of leptons is less than 4\n",
    "    return lep_n < 4\n",
    "\n",
    "# cut on lepton charge\n",
    "def cut_lep_charge(lep_charge):\n",
    "    # return when sum of lepton charges is not equal to 0\n",
    "    # exclamation mark (!) means \"not\"\n",
    "    # so != means \"not equal to\"\n",
    "    # first lepton is [0], 2nd lepton is [1] etc\n",
    "    return lep_charge[0] + lep_charge[1] + lep_charge[2] + lep_charge[3] != 0\n",
    "\n",
    "# cut on lepton type\n",
    "def cut_lep_type(lep_type):\n",
    "# for an electron lep_type is 11\n",
    "# for a muon lep_type is 13\n",
    "    sum_lep_type = lep_type[0] + lep_type[1] + lep_type[2] + lep_type[3]\n",
    "    return (lep_type[0]+lep_type[1]+lep_type[2]+lep_type[3] != 44) and (lep_type[0]+lep_type[1]+lep_type[2]+lep_type[3] != 48) and (lep_type[0]+lep_type[1]+lep_type[2]+lep_type[3] != 52)\n",
    "\n",
    "# cut on lepton pt\n",
    "def cut_lep_pt(lep_pt):\n",
    "# want to throw away events where the 2nd highest pt lepton used has lep_pt[1] < 15000\n",
    "# want to throw away events where the 3rd highest pt lepton used has lep_pt[2] < 10000\n",
    "    return (lep_pt[1] > 15000) or (lep_pt[2] > 10000)\n",
    "\n",
    "def cut_lep_pt2(lep_pt):\n",
    "    return np.sum(lep_pt>7000, axis=0)!=4\n",
    "\n",
    "# cut on minimum opposite-charge-same-type lepton pair invariant mass\n",
    "#def cut_mOCST():\n",
    "# want to throw away events if the invariant mass of any opposite-charge-same-type lepton pair is < 5\n",
    "\n",
    "# cut on invariant mass of Z boson candidate 1\n",
    "#def cut_mZ1(mZ1):\n",
    "# want invariant mass of same-type-opposite-charge lepton pair that's closest to Z mass (91 GeV) to be in range 50 < m < 106 GeV\n",
    "\n",
    "# cut on invariant mass of Z boson candidate 2\n",
    "#def cut_mZ2(mZ2):\n",
    "# want invariant mass of remaining lepton pair that's closest to Z mass (91 GeV) to be in range 17.5 < m < 115 GeV\n",
    "# advanced: vary the lower range monotically from 17.5 at mllll=120 to 50 at mllll=190, and constant above mllll=190\n",
    "\n",
    "# cut on deltaR\n",
    "# want to throw away leptons that are separated from all other leptons by deltaR = math.sqrt(delta(lep_eta)**2 + delta(lep_phi)**2) < 0.2\n",
    "# want to throw away leptons that are separated from other leptons of the same type by deltaR = math.sqrt(delta(lep_eta)**2 + delta(lep_phi)**2) < 0.1\n",
    "\n",
    "# example of returning list where every element passes minimum lep_pt requirement\n",
    "#def cut_lep_pt_min(data):\n",
    "#    return [data.lep_pt[i] for i in range(len(data.lep_pt)) if data.lep_pt[i] > 6000]\n",
    "\n",
    "# cut on minimum lepton pt\n",
    "# want to throw away muons with lep_pt < 6000\n",
    "# want to throw away electrons with lep_pt < 7000\n",
    "\n",
    "# cut on maximum lepton etcone20\n",
    "# want to throw away muons with lep_etcone20/lep_pt < 0.3\n",
    "# want to throw away electrons with lep_etcone20/lep_pt < 0.2\n",
    "\n",
    "# cut on maximum lepton d0\n",
    "# want to throw away muons with lep_trackd0pvunbiased/lep_tracksigd0pvunbiased < 3.5\n",
    "# want to throw away electrons with lep_trackd0pvunbiased/lep_tracksigd0pvunbiased < 6.5\n",
    "\n",
    "# example of cutting on length of list passing minimum requirements\n",
    "#def cut_n_lep_min(lep_pt_min):\n",
    "#    return len(lep_pt_min) < 4"
   ]
  },
  {
   "cell_type": "code",
<<<<<<< HEAD
   "execution_count": 80,
=======
   "execution_count": 16,
>>>>>>> 3bfca4d1f4779a7e6f549ea4fa16a5313d4e9755
   "metadata": {
    "scrolled": true
   },
   "outputs": [
    {
     "name": "stdout",
     "output_type": "stream",
     "text": [
      "data:\n",
      "../Input/Data/skim.DataEgamma.root\n",
      "\tProcessing: DataEgamma\n",
<<<<<<< HEAD
      "\t\tTime taken: 0.060869455337524414, nIn: 89, nOut: 34\n",
      "../Input/Data/skim.DataMuons.root\n",
      "\tProcessing: DataMuons\n",
      "\t\tTime taken: 0.18954181671142578, nIn: 112, nOut: 42\n",
      "$Z,t\\bar{t}$:\n",
      "../Input/MC/skim.mc_147770.Zee.root\n",
      "\tProcessing: Zee\n",
      "\t\tTime taken: 0.04369950294494629, nIn: 720, nOut: 196\n",
      "../Input/MC/skim.mc_147771.Zmumu.root\n",
      "\tProcessing: Zmumu\n",
      "\t\tTime taken: 0.062444448471069336, nIn: 1057, nOut: 254\n",
      "../Input/MC/skim.mc_117050.ttbar_lep.root\n",
      "\tProcessing: ttbar_lep\n",
      "\t\tTime taken: 0.062484025955200195, nIn: 897, nOut: 389\n",
      "ZZ:\n",
      "../Input/MC/skim.mc_105986.ZZ.root\n",
      "\tProcessing: ZZ\n",
      "\t\tTime taken: 0.12600016593933105, nIn: 1973, nOut: 1843\n",
      "$H \\rightarrow ZZ \\rightarrow \\ell\\ell\\ell\\ell$:\n",
      "../Input/MC/skim.mc_160155.ggH125_ZZ4lep.root\n",
      "\tProcessing: ggH125_ZZ4lep\n",
      "\t\tTime taken: 0.7751178741455078, nIn: 21783, nOut: 17884\n",
      "../Input/MC/skim.mc_160205.VBFH125_ZZ4lep.root\n",
      "\tProcessing: VBFH125_ZZ4lep\n",
      "\t\tTime taken: 0.7275440692901611, nIn: 20954, nOut: 17261\n",
      "Signal/sqrt(Background) for 120<mllll<130 0.22043371960790506\n",
      "Time taken: 2.917684316635132\n"
=======
      "\t\tTime taken: 0.05885958671569824, nIn: 89, nOut: 89\n",
      "../Input/Data/skim.DataMuons.root\n",
      "\tProcessing: DataMuons\n",
      "\t\tTime taken: 0.04987072944641113, nIn: 112, nOut: 112\n",
      "$Z,t\\bar{t}$:\n",
      "../Input/MC/skim.mc_147770.Zee.root\n",
      "\tProcessing: Zee\n",
      "\t\tTime taken: 0.09374642372131348, nIn: 720, nOut: 720\n",
      "../Input/MC/skim.mc_147771.Zmumu.root\n",
      "\tProcessing: Zmumu\n",
      "\t\tTime taken: 0.08376383781433105, nIn: 1057, nOut: 1057\n",
      "../Input/MC/skim.mc_117050.ttbar_lep.root\n",
      "\tProcessing: ttbar_lep\n",
      "\t\tTime taken: 0.08080244064331055, nIn: 897, nOut: 897\n",
      "ZZ:\n",
      "../Input/MC/skim.mc_105986.ZZ.root\n",
      "\tProcessing: ZZ\n",
      "\t\tTime taken: 0.11268115043640137, nIn: 1973, nOut: 1973\n",
      "$H \\rightarrow ZZ \\rightarrow \\ell\\ell\\ell\\ell$:\n",
      "../Input/MC/skim.mc_160155.ggH125_ZZ4lep.root\n",
      "\tProcessing: ggH125_ZZ4lep\n",
      "\t\tTime taken: 0.8447072505950928, nIn: 21783, nOut: 21783\n",
      "../Input/MC/skim.mc_160205.VBFH125_ZZ4lep.root\n",
      "\tProcessing: VBFH125_ZZ4lep\n",
      "\t\tTime taken: 0.756019115447998, nIn: 20954, nOut: 20954\n",
      "Signal/sqrt(Background) for 120<mllll<130 0.14425894026493355\n",
      "Time taken: 3.3759450912475586\n"
>>>>>>> 3bfca4d1f4779a7e6f549ea4fa16a5313d4e9755
     ]
    },
    {
     "data": {
<<<<<<< HEAD
      "image/png": "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\n",
=======
      "image/png": "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\n",
>>>>>>> 3bfca4d1f4779a7e6f549ea4fa16a5313d4e9755
      "text/plain": [
       "<Figure size 432x288 with 1 Axes>"
      ]
     },
     "metadata": {
      "needs_background": "light"
     },
     "output_type": "display_data"
    }
   ],
   "source": [
    "if __name__==\"__main__\":\n",
    "    start = time.time()\n",
    "    data = get_data_from_files()\n",
    "    plot_data(data)\n",
    "    elapsed = time.time() - start\n",
    "    print(\"Time taken: \"+str(elapsed))"
   ]
  },
  {
   "cell_type": "markdown",
   "metadata": {},
   "source": [
    "## Define the model\n",
    "We'll start with a dense (fully-connected) NN layer. Our model will have a single fully-connected hidden layer with the same number of neurons as input variables. The weights are initialized using a small Gaussian random number. We will switch between linear and tanh activation functions for the hidden layer. The output layer contains a single neuron in order to make predictions. It uses the sigmoid activation function in order to produce a probability output in the range of 0 to 1.\n",
    "We are using the *binary_crossentropy* loss function during training, a standard loss function for binary classification problems. We will optimize the model with the Adam algorithm for stochastic gradient descent and we will collect accuracy metrics while the model is trained."
   ]
  },
  {
   "cell_type": "code",
<<<<<<< HEAD
   "execution_count": 82,
=======
   "execution_count": 19,
>>>>>>> 3bfca4d1f4779a7e6f549ea4fa16a5313d4e9755
   "metadata": {},
   "outputs": [
    {
     "name": "stdout",
     "output_type": "stream",
     "text": [
<<<<<<< HEAD
      "Model: \"model_6\"\n",
=======
      "Model: \"model\"\n",
>>>>>>> 3bfca4d1f4779a7e6f549ea4fa16a5313d4e9755
      "_________________________________________________________________\n",
      "Layer (type)                 Output Shape              Param #   \n",
      "=================================================================\n",
      "input (InputLayer)           [(None, 1)]               0         \n",
      "_________________________________________________________________\n",
      "output (Dense)               (None, 1)                 2         \n",
      "=================================================================\n",
      "Total params: 2\n",
      "Trainable params: 2\n",
      "Non-trainable params: 0\n",
      "_________________________________________________________________\n"
     ]
    }
   ],
   "source": [
    "# baseline keras model\n",
    "from tensorflow import keras\n",
    "from keras.models import Sequential, Model\n",
    "# from keras.optimizers import SGD\n",
    "from keras.layers import Input, Activation, Dense, Convolution2D, MaxPooling2D, Dropout, Flatten\n",
    "from keras.utils import np_utils\n",
    "\n",
    "VARS = ['mllll']\n",
    "\n",
    "# add isSignal variable\n",
    "data[r'$H \\rightarrow ZZ \\rightarrow \\ell\\ell\\ell\\ell$']['isSignal'] = np.ones(len(data[r'$H \\rightarrow ZZ \\rightarrow \\ell\\ell\\ell\\ell$'])) \n",
    "data[r'$Z,t\\bar{t}$']['isSignal'] = np.zeros(len(data[r'$Z,t\\bar{t}$']))\n",
    "data['ZZ']['isSignal'] = np.zeros(len(data['ZZ']))\n",
    "\n",
    "NDIM = len(VARS)\n",
    "inputs = Input(shape=(NDIM,), name = 'input') \n",
    "outputs = Dense(1, name = 'output', kernel_initializer='normal', activation='sigmoid')(inputs)\n",
    "\n",
    "# create the model\n",
    "model = Model(inputs=inputs, outputs=outputs)\n",
    "# compile the model\n",
    "model.compile(optimizer='adam', loss='binary_crossentropy', metrics=['accuracy'])\n",
    "# print the model summary\n",
    "model.summary()"
   ]
  },
  {
   "cell_type": "markdown",
   "metadata": {},
   "source": [
    "## Dividing the data into testing and training dataset\n",
    "We will split the data into two parts (one for training+validation and one for testing). We will also apply \"standard scaling\" preprocessing: http://scikit-learn.org/stable/modules/generated/sklearn.preprocessing.StandardScaler.html i.e. making the mean = 0 and the RMS = 1 for all input variables (based **only** on the training/validation dataset). We will also define our early stopping criteria to prevent over-fitting and we will save the model based on the best *val_loss*."
   ]
  },
  {
   "cell_type": "code",
<<<<<<< HEAD
   "execution_count": 83,
=======
   "execution_count": 20,
>>>>>>> 3bfca4d1f4779a7e6f549ea4fa16a5313d4e9755
   "metadata": {},
   "outputs": [
    {
     "name": "stdout",
     "output_type": "stream",
     "text": [
      "WARNING:tensorflow:`period` argument is deprecated. Please use `save_freq` to specify the frequency in number of batches seen.\n"
     ]
    }
   ],
   "source": [
    "df_all = pd.concat([data[r'$H \\rightarrow ZZ \\rightarrow \\ell\\ell\\ell\\ell$'], data[r'$Z,t\\bar{t}$'],data['ZZ']])\n",
    "dataset = df_all.values\n",
    "X = dataset[:,1:NDIM+1]\n",
    "Y = dataset[:,NDIM+1]\n",
    "\n",
    "from sklearn.model_selection import train_test_split\n",
    "X_train_val, X_test, Y_train_val, Y_test = train_test_split(X, Y, test_size=0.2, random_state=7)\n",
    "# preprocessing: standard scalar\n",
    "from sklearn.preprocessing import StandardScaler\n",
    "scaler = StandardScaler().fit(X_train_val)\n",
    "X_train_val = scaler.transform(X_train_val)\n",
    "X_test = scaler.transform(X_test)\n",
    "\n",
    "# early stopping callback\n",
    "from keras.callbacks import EarlyStopping\n",
    "early_stopping = EarlyStopping(monitor='val_loss', patience=10)\n",
    "\n",
    "# model checkpoint callback\n",
    "# this saves our model architecture + parameters into dense_model.h5\n",
    "from keras.callbacks import ModelCheckpoint\n",
    "model_checkpoint = ModelCheckpoint('dense_model.h5', monitor='val_loss', \n",
    "                                    verbose=0, save_best_only=True, \n",
    "                                    save_weights_only=False, mode='auto', \n",
    "#                                     save_freq=1\n",
    "                                   )"
   ]
  },
  {
   "cell_type": "markdown",
   "metadata": {},
   "source": [
    "## Run the training\n",
    "Here, we run the training"
   ]
  },
  {
   "cell_type": "code",
<<<<<<< HEAD
   "execution_count": 84,
=======
   "execution_count": 21,
>>>>>>> 3bfca4d1f4779a7e6f549ea4fa16a5313d4e9755
   "metadata": {},
   "outputs": [],
   "source": [
    "# Train classifier\n",
    "history = model.fit(X_train_val, \n",
    "                    Y_train_val, \n",
    "                    epochs=1000, \n",
    "                    batch_size=1024, \n",
    "                    verbose=0, # switch to 1 for more verbosity \n",
    "                    callbacks=[early_stopping, model_checkpoint], \n",
    "                    validation_split=0.25)"
   ]
  },
  {
   "cell_type": "markdown",
   "metadata": {},
   "source": [
    "## Plot performance\n",
    "Here, we plot the history of the training and the performance in a ROC curve"
   ]
  },
  {
   "cell_type": "code",
<<<<<<< HEAD
   "execution_count": 85,
=======
   "execution_count": 24,
>>>>>>> 3bfca4d1f4779a7e6f549ea4fa16a5313d4e9755
   "metadata": {},
   "outputs": [
    {
     "data": {
<<<<<<< HEAD
      "image/png": "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\n",
=======
      "image/png": "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\n",
>>>>>>> 3bfca4d1f4779a7e6f549ea4fa16a5313d4e9755
      "text/plain": [
       "<Figure size 1080x720 with 3 Axes>"
      ]
     },
     "metadata": {
      "needs_background": "light"
     },
     "output_type": "display_data"
    }
   ],
   "source": [
    "%matplotlib inline\n",
    "# plot loss vs epoch\n",
    "plt.figure(figsize=(15,10))\n",
    "ax = plt.subplot(2, 2, 1)\n",
    "ax.plot(history.history['loss'], label='loss')\n",
    "ax.plot(history.history['val_loss'], label='val_loss')\n",
    "ax.legend(loc=\"upper right\")\n",
    "ax.set_xlabel('epoch')\n",
    "ax.set_ylabel('loss')\n",
    "\n",
    "# plot accuracy vs epoch\n",
    "ax = plt.subplot(2, 2, 2)\n",
    "ax.plot(history.history['accuracy'], label='acc')\n",
    "ax.plot(history.history['val_accuracy'], label='val_acc')\n",
    "ax.legend(loc=\"upper left\")\n",
    "ax.set_xlabel('epoch')\n",
    "ax.set_ylabel('acc')\n",
    "\n",
    "# Plot ROC\n",
    "Y_predict = model.predict(X_test)\n",
    "from sklearn.metrics import roc_curve, auc\n",
    "fpr, tpr, thresholds = roc_curve(Y_test, Y_predict)\n",
    "roc_auc = auc(fpr, tpr)\n",
    "ax = plt.subplot(2, 2, 3)\n",
    "ax.plot(fpr, tpr, lw=2, color='cyan', label='auc = %.3f' % (roc_auc))\n",
    "ax.plot([0, 1], [0, 1], linestyle='--', lw=2, color='k', label='random chance')\n",
    "ax.set_xlim([0, 1.0])\n",
    "ax.set_ylim([0, 1.0])\n",
    "ax.set_xlabel('false positive rate')\n",
    "ax.set_ylabel('true positive rate')\n",
    "ax.set_title('receiver operating curve')\n",
    "ax.legend(loc=\"lower right\")\n",
    "plt.show()"
   ]
  },
  {
   "cell_type": "code",
<<<<<<< HEAD
   "execution_count": 86,
   "metadata": {},
   "outputs": [
    {
     "name": "stdout",
     "output_type": "stream",
     "text": [
      "              precision    recall  f1-score   support\n",
      "\n",
      "  background       0.97      0.72      0.83       550\n",
      "      signal       0.98      1.00      0.99      7016\n",
      "\n",
      "    accuracy                           0.98      7566\n",
      "   macro avg       0.97      0.86      0.91      7566\n",
      "weighted avg       0.98      0.98      0.98      7566\n",
      "\n",
      "Area under ROC curve for test data: 0.8756\n"
     ]
    }
   ],
   "source": [
    "from sklearn.metrics import classification_report, roc_auc_score\n",
    "y_predicted = model.predict(X_test)>.5\n",
    "print (classification_report(Y_test, y_predicted,\n",
    "                            target_names=[\"background\", \"signal\"]))\n",
    "print (\"Area under ROC curve for test data: %.4f\"%(roc_auc))"
   ]
  },
  {
   "cell_type": "code",
=======
>>>>>>> 3bfca4d1f4779a7e6f549ea4fa16a5313d4e9755
   "execution_count": null,
   "metadata": {},
   "outputs": [],
   "source": []
  }
 ],
 "metadata": {
  "kernelspec": {
   "display_name": "Python 3",
   "language": "python",
   "name": "python3"
  },
  "language_info": {
   "codemirror_mode": {
    "name": "ipython",
    "version": 3
   },
   "file_extension": ".py",
   "mimetype": "text/x-python",
   "name": "python",
   "nbconvert_exporter": "python",
   "pygments_lexer": "ipython3",
   "version": "3.8.5"
  }
 },
 "nbformat": 4,
 "nbformat_minor": 4
}
