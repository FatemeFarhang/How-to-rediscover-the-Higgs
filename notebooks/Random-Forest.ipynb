{
 "cells": [
  {
   "cell_type": "markdown",
   "metadata": {},
   "source": [
    "# How to rediscover the Higgs boson yourself! - Random Forest\n",
    "This notebook uses ATLAS Open Data http://opendata.atlas.cern to show you the steps to rediscover the Higgs boson yourself!\n",
    "\n",
    "The idea is that you improve upon the Random Forest example to select important features for determining mllll, the invariant mass of the 4-lepton system.\n",
    "\n",
    "The datasets used in this notebook have already been filtered to include at least 4 leptons per event, so that processing is quicker.\n",
    "\n",
    "This notebook was inspired by https://ipython-books.github.io/86-using-a-random-forest-to-select-important-features-for-regression/"
   ]
  },
  {
   "cell_type": "markdown",
   "metadata": {},
   "source": [
    "<!-- <CENTER><img src=\"../HZZ_feynman.pdf\" style=\"width:40%\"></CENTER> -->"
   ]
  },
  {
   "cell_type": "markdown",
   "metadata": {},
   "source": [
    "## First time setup\n",
    "This first cell only needs to be run the first time you open this notebook on your computer. \n",
    "\n",
    "If you close jupyter and re-open on the same computer, you won't need to run this first cell again.\n",
    "\n",
    "If you re-open on binder, you will need to run this cell again.\n",
    "\n",
    "If you run into a problem of \"uproot not being available\", Kernel -> Restart & Run All"
   ]
  },
  {
   "cell_type": "code",
   "execution_count": null,
   "metadata": {},
   "outputs": [],
   "source": [
    "import sys\n",
    "!{sys.executable} -m pip install --upgrade --user pip\n",
    "!{sys.executable} -m pip install -U numpy pandas uproot matplotlib keras scikit-learn --user"
   ]
  },
  {
   "cell_type": "markdown",
   "metadata": {},
   "source": [
    "## To setup everytime\n",
    "Cell -> Run All Below\n",
    "\n",
    "to be done every time you re-open this notebook"
   ]
  },
  {
   "cell_type": "code",
   "execution_count": 1,
   "metadata": {},
   "outputs": [],
   "source": [
    "import uproot\n",
    "import pandas as pd\n",
    "import time\n",
    "import math\n",
    "import numpy as np\n",
    "import matplotlib.pyplot as plt\n",
    "import glob\n",
    "import random\n",
    "\n",
    "import infofile"
   ]
  },
  {
   "cell_type": "code",
   "execution_count": 2,
   "metadata": {},
   "outputs": [],
   "source": [
    "lumi = 1000\n",
    "                                                                                                                                  \n",
    "tuple_path = \"../Input/\"\n",
    "\n",
    "stack_order = ['data',r'$Z,t\\bar{t}$','ZZ',r'$H \\rightarrow ZZ \\rightarrow \\ell\\ell\\ell\\ell$']"
   ]
  },
  {
   "cell_type": "code",
   "execution_count": 3,
   "metadata": {},
   "outputs": [],
   "source": [
    "samples = {\n",
    "\n",
    "    'data': {\n",
    "        'list' : ['DataEgamma','DataMuons']\n",
    "    },\n",
    "\n",
    "    r'$Z,t\\bar{t}$' : {\n",
    "        'list' : ['Zee','Zmumu','ttbar_lep'],\n",
    "        'color' : \"#8700da\"\n",
    "    },\n",
    "\n",
    "    'ZZ' : {\n",
    "        'list' : ['ZZ'],\n",
    "        'color' : \"#f90000\"\n",
    "    },\n",
    "\n",
    "    r'$H \\rightarrow ZZ \\rightarrow \\ell\\ell\\ell\\ell$' : {\n",
    "        'list' : ['ggH125_ZZ4lep','VBFH125_ZZ4lep'],\n",
    "        'color' : \"#4faeff\"\n",
    "    }\n",
    "\n",
    "}"
   ]
  },
  {
   "cell_type": "code",
   "execution_count": 4,
   "metadata": {},
   "outputs": [],
   "source": [
    "def get_data_from_files():\n",
    "\n",
    "    data = {}\n",
    "\n",
    "    for s in samples:\n",
    "        print(s+':')\n",
    "        frames = []\n",
    "        for val in samples[s]['list']:\n",
    "            prefix = \"MC/skim.mc_\"\n",
    "            if s == 'data':\n",
    "                prefix = \"Data/skim.\"\n",
    "            else: prefix += str(infofile.infos[val][\"DSID\"])+\".\"\n",
    "            fileString = tuple_path+prefix+val+\".root\"\n",
    "            print(fileString)\n",
    "            f = glob.glob(fileString,recursive=False)[0]\n",
    "            if f != \"\":\n",
    "                temp = read_file(f,val)\n",
    "                frames.append(temp)\n",
    "            else:\n",
    "                print(\"Error: \"+val+\" not found!\")\n",
    "        data[s] = pd.concat(frames)\n",
    "\n",
    "    return data"
   ]
  },
  {
   "cell_type": "code",
   "execution_count": 5,
   "metadata": {},
   "outputs": [],
   "source": [
    "def mllll_window(mllll):\n",
    "    return 120 < mllll < 130"
   ]
  },
  {
   "cell_type": "code",
   "execution_count": 6,
   "metadata": {},
   "outputs": [],
   "source": [
    "def calc_weight(mcWeight,scaleFactor_PILEUP,scaleFactor_ELE,\n",
    "                scaleFactor_MUON, scaleFactor_TRIGGER):\n",
    "    return mcWeight*scaleFactor_PILEUP*scaleFactor_ELE*scaleFactor_MUON*scaleFactor_TRIGGER"
   ]
  },
  {
   "cell_type": "code",
   "execution_count": 7,
   "metadata": {},
   "outputs": [],
   "source": [
    "def get_xsec_weight(totalWeight,sample):\n",
    "    info = infofile.infos[sample]\n",
    "    weight = (lumi*info[\"xsec\"])/(info[\"sumw\"]*info[\"red_eff\"])\n",
    "    weight *= totalWeight\n",
    "    return weight"
   ]
  },
  {
   "cell_type": "code",
   "execution_count": 8,
   "metadata": {},
   "outputs": [],
   "source": [
    "def correlations(data, title, **kwds):\n",
    "    \"\"\"Calculate pairwise correlation between features.\n",
    "    \n",
    "    Extra arguments are passed on to DataFrame.corr()\n",
    "    \"\"\"\n",
    "    # simply call df.corr() to get a table of\n",
    "    # correlation values if you do not need\n",
    "    # the fancy plotting\n",
    "    corrmat = data.corr(**kwds)\n",
    "\n",
    "    fig, ax1 = plt.subplots(ncols=1, figsize=(6,5))\n",
    "    \n",
    "    opts = {'cmap': plt.get_cmap(\"RdBu\"),\n",
    "            'vmin': -1, 'vmax': +1}\n",
    "    heatmap1 = ax1.pcolor(corrmat, **opts)\n",
    "    plt.colorbar(heatmap1, ax=ax1)\n",
    "\n",
    "    ax1.set_title(title+\" Correlations\")\n",
    "\n",
    "    labels = corrmat.columns.values\n",
    "    for ax in (ax1,):\n",
    "        # shift location of ticks to center of the bins\n",
    "        ax.set_xticks(np.arange(len(labels))+0.5, minor=False)\n",
    "        ax.set_yticks(np.arange(len(labels))+0.5, minor=False)\n",
    "        ax.set_xticklabels(labels, minor=False, ha='right', rotation=70)\n",
    "        ax.set_yticklabels(labels, minor=False)\n",
    "        \n",
    "    plt.tight_layout()"
   ]
  },
  {
   "cell_type": "code",
   "execution_count": 9,
   "metadata": {},
   "outputs": [],
   "source": [
    "def plot_data(data):\n",
    "\n",
    "    bins = [80 + x*5 for x in range(35) ]\n",
    "    data_x = [82.5 + x*5 for x in range(34) ]\n",
    "\n",
    "    data_mllll = []\n",
    "    data_mllll_errors = []\n",
    "\n",
    "    mc_mllll = []\n",
    "    mc_weights = []\n",
    "    mc_colors = []\n",
    "    mc_labels = []\n",
    "    mc_in_mllll_window = [] # list for numbers of MC events with 120 < mllll < 130 GeV\n",
    "\n",
    "    for s in stack_order:\n",
    "        if s == \"data\":\n",
    "            data_mllll,_ = np.histogram(data[s].mllll.values, bins=bins)\n",
    "            data_mllll_errors = np.sqrt(data_mllll)\n",
    "        else:\n",
    "            mc_labels.append(s)\n",
    "            mc_mllll.append(data[s].mllll.values)\n",
    "            mc_colors.append(samples[s]['color'])\n",
    "            mc_weights.append(data[s].totalWeight.values)\n",
    "            mc_in_mllll_window.append([data[s].totalWeight.values[mllll_iter] for mllll_iter in range(len(data[s].mllll.values)) if 120 < data[s].mllll.values[mllll_iter] < 130])\n",
    "    \n",
    "    HZZ_in_mllll_window = sum(mc_in_mllll_window[2]) # number signal MC events with 120 < mllll < 130 GeV\n",
    "    background_in_mllll_window = sum(mc_in_mllll_window[0]+mc_in_mllll_window[1]) # number background MC events with 120 < mllll < 130 GeV\n",
    "    SoversqrtB = HZZ_in_mllll_window/math.sqrt(background_in_mllll_window) # calculate significance\n",
    "    print('Signal/sqrt(Background) for 120<mllll<130 '+str(SoversqrtB))\n",
    "    \n",
    "    top = np.amax(data_mllll)+math.sqrt(np.amax(data_mllll))\n",
    "\n",
    "    plt.figure()\n",
    "    plt.hist(mc_mllll,bins=bins,weights=mc_weights,stacked=True,color=mc_colors, label=mc_labels)\n",
    "    plt.errorbar( x=data_x, y=data_mllll, yerr=data_mllll_errors, fmt='ko', label='Data')\n",
    "\n",
    "    #X = np.arange(115,135,5) # gives list [115,120,125,130]\n",
    "    #data_in_window = data_mllll[7:11] # gives list of data y value for [115,120,125,130]\n",
    "    #x = np.sum(X*data_in_window)/np.sum(data_in_window) # Gaussian mean\n",
    "    #width = np.sqrt(np.abs(np.sum((X-x)**2*data_in_window)/np.sum(data_in_window))) # Gaussian width\n",
    "    #fit = lambda t : np.amax(data_in_window)*np.exp(-(t-x)**2/(2*width**2)) # Gaussian fit\n",
    "    #plt.plot(X, fit(X), '-') # plot Gaussian\n",
    "    \n",
    "    plt.xlabel(r'$M_{\\ell\\ell\\ell\\ell}$ [GeV]',fontname='sans-serif',horizontalalignment='right',x=1.0,fontsize=11)\n",
    "\n",
    "    plt.ylabel(r'Events',fontname='sans-serif',horizontalalignment='right',y=1.0,fontsize=11)\n",
    "    #plt.yscale('log')                                                                                                                                                                        \n",
    "    plt.ylim(bottom=0,top=top)\n",
    "\n",
    "    ax = plt.gca()\n",
    "    plt.text(0.05,0.97,r'$\\mathbf{{ATLAS}}$ Open Data',ha=\"left\",va=\"top\",family='sans-serif',transform=ax.transAxes,fontsize=13)\n",
    "    plt.text(0.05,0.92,'for education only',ha=\"left\",va=\"top\",family='sans-serif',transform=ax.transAxes,style='italic',fontsize=8)\n",
    "    plt.text(0.05,0.9,r'$\\sqrt{s}=8\\,\\mathrm{TeV},\\;\\int L\\,dt=1\\,\\mathrm{fb}^{-1}$',ha=\"left\",va=\"top\",family='sans-serif',transform=ax.transAxes)\n",
    "\n",
    "    plt.legend()\n",
    "\n",
    "    plt.savefig(\"plot.pdf\")\n",
    "    \n",
    "    # scatter plot of signal and background lep_n vs mllll\n",
    "    #plt.figure()\n",
    "    #for s in stack_order:\n",
    "    #    if s != 'data': plt.scatter(data[s].lep_n,data[s].mllll,color=samples[s]['color'],label=s)\n",
    "    #plt.xlabel(r'Leptons',fontname='sans-serif',horizontalalignment='right',y=1.0,fontsize=11)\n",
    "    #plt.ylabel(r'$M_{\\ell\\ell\\ell\\ell}$ [GeV]',fontname='sans-serif',horizontalalignment='right',x=1.0,fontsize=11)\n",
    "    #plt.legend()\n",
    "    \n",
    "    # scatter plot of signal and background lep_pt[0] vs mllll\n",
    "    #plt.figure()\n",
    "    #for s in stack_order:\n",
    "    #    if s != 'data': plt.scatter(data[s].lep_pt.apply(lambda x: x[0]),data[s].mllll,color=samples[s]['color'],label=s)\n",
    "    #plt.legend()\n",
    "    \n",
    "    # boxplot of signal and background mllll\n",
    "    #plt.figure()\n",
    "    #for s in stack_order:\n",
    "    #    if s != 'data': data[s]['Process'] = s\n",
    "    #data_all = pd.concat([data[r'$Z,t\\bar{t}$'],data['ZZ'],data[r'$H \\rightarrow ZZ \\rightarrow \\ell\\ell\\ell\\ell$']])\n",
    "    #data_all.boxplot(by='Process',column=[\"mllll\"])\n",
    "    \n",
    "    # plot correlation matrices for signal and background\n",
    "    #correlations(pd.concat([data[r'$Z,t\\bar{t}$'],data['ZZ']]),\"background\")\n",
    "    #correlations(data[r'$H \\rightarrow ZZ \\rightarrow \\ell\\ell\\ell\\ell$'], \"signal\")\n",
    "\n",
    "    return"
   ]
  },
  {
   "cell_type": "code",
   "execution_count": 10,
   "metadata": {},
   "outputs": [],
   "source": [
    "def calc_mllll(lep_pts,lep_etas,lep_phis):\n",
    "    theta_0 = 2*math.atan(math.exp(-lep_etas[0]))\n",
    "    theta_1 = 2*math.atan(math.exp(-lep_etas[1]))\n",
    "    theta_2 = 2*math.atan(math.exp(-lep_etas[2]))\n",
    "    theta_3 = 2*math.atan(math.exp(-lep_etas[3]))\n",
    "    p_0 = lep_pts[0]/math.sin(theta_0)\n",
    "    p_1 = lep_pts[1]/math.sin(theta_1)\n",
    "    p_2 = lep_pts[2]/math.sin(theta_2)\n",
    "    p_3 = lep_pts[3]/math.sin(theta_3)\n",
    "    pz_0 = p_0*math.cos(theta_0)\n",
    "    pz_1 = p_1*math.cos(theta_1)\n",
    "    pz_2 = p_2*math.cos(theta_2)\n",
    "    pz_3 = p_3*math.cos(theta_3)\n",
    "    px_0 = p_0*math.sin(theta_0)*math.cos(lep_phis[0])\n",
    "    px_1 = p_1*math.sin(theta_1)*math.cos(lep_phis[1])\n",
    "    px_2 = p_2*math.sin(theta_2)*math.cos(lep_phis[2])\n",
    "    px_3 = p_3*math.sin(theta_3)*math.cos(lep_phis[3])\n",
    "    py_0 = p_0*math.sin(theta_0)*math.sin(lep_phis[0])\n",
    "    py_1 = p_1*math.sin(theta_1)*math.sin(lep_phis[1])\n",
    "    py_2 = p_2*math.sin(theta_2)*math.sin(lep_phis[2])\n",
    "    py_3 = p_3*math.sin(theta_3)*math.sin(lep_phis[3])\n",
    "    sumpz = pz_0 + pz_1 + pz_2 + pz_3\n",
    "    sumpx = px_0 + px_1 + px_2 + px_3\n",
    "    sumpy = py_0 + py_1 + py_2 + py_3\n",
    "    sumE = p_0 + p_1 + p_2 + p_3\n",
    "    mllll = sumE**2 - sumpz**2 - sumpx**2 - sumpy**2\n",
    "    return math.sqrt(mllll)/1000."
   ]
  },
  {
   "cell_type": "code",
   "execution_count": 11,
   "metadata": {},
   "outputs": [],
   "source": [
    "def calc_mll(lep_pts,lep_etas,lep_phis):\n",
    "    # this is only pseudo-code to tell you what to do!\n",
    "    # you need to decide how to find i & j yourself\n",
    "    mll = 2*lep_pts[i]*lep_pts[j!=i]\n",
    "    cosh = math.cosh(lep_etas[i]-lep_etas[j!=i])\n",
    "    cos = math.cos(lep_phis[i]-lep_phis[j!=i])\n",
    "    mll *= ( cosh - cos )\n",
    "    return math.sqrt(mll)/1000."
   ]
  },
  {
   "cell_type": "markdown",
   "metadata": {},
   "source": [
    "## Uncommenting a new cut\n",
    "If you add a cut: Cell -> Run All Below"
   ]
  },
  {
   "cell_type": "code",
<<<<<<< HEAD
   "execution_count": 15,
=======
   "execution_count": 12,
>>>>>>> 3bfca4d1f4779a7e6f549ea4fa16a5313d4e9755
   "metadata": {},
   "outputs": [],
   "source": [
    "def read_file(path,sample):\n",
    "    start = time.time()\n",
    "    print(\"\\tProcessing: \"+sample)\n",
    "    mc = uproot.open(path)[\"mini\"]\n",
    "#     data = mc.pandas.df([\"lep_n\",\"lep_pt\",\"lep_eta\",\"lep_phi\",\"lep_charge\",\"lep_type\",\"lep_etcone20\",\"lep_trackd0pvunbiased\",\"lep_tracksigd0pvunbiased\",\n",
    "#                          \"mcWeight\",\"scaleFactor_PILEUP\",\"scaleFactor_ELE\",\"scaleFactor_MUON\", # add more variables here if you make cuts on them\n",
    "#                          \"scaleFactor_TRIGGER\"], flatten=False)\n",
    "    data = pd.DataFrame(mc.arrays([\"lep_n\",\"lep_pt\",\"lep_eta\",\"lep_phi\",\"lep_charge\",\"lep_type\",\"lep_etcone20\",\"lep_trackd0pvunbiased\",\"lep_tracksigd0pvunbiased\",\n",
    "                         \"mcWeight\",\"scaleFactor_PILEUP\",\"scaleFactor_ELE\",\"scaleFactor_MUON\", # add more variables here if you make cuts on them\n",
    "                         \"scaleFactor_TRIGGER\"], library ='np') #,columns = [\"lep_n\",\"lep_pt\",\"lep_eta\",\"lep_phi\",\"lep_charge\",\"lep_type\",\"lep_etcone20\",\"lep_trackd0pvunbiased\",\"lep_tracksigd0pvunbiased\",\"mcWeight\",\"scaleFactor_PILEUP\",\"scaleFactor_ELE\",\"scaleFactor_MUON\",\"scaleFactor_TRIGGER\"]\n",
    "                       )\n",
    "\n",
    "    nIn = len(data.index)\n",
    "\n",
    "    if 'Data' not in sample:\n",
    "        data['totalWeight'] = np.vectorize(calc_weight)(data.mcWeight,data.scaleFactor_PILEUP,data.scaleFactor_ELE,data.scaleFactor_MUON,data.scaleFactor_TRIGGER)\n",
    "        data['totalWeight'] = np.vectorize(get_xsec_weight)(data.totalWeight,sample)\n",
    "\n",
    "    data.drop([\"mcWeight\",\"scaleFactor_PILEUP\",\"scaleFactor_ELE\",\"scaleFactor_MUON\",\"scaleFactor_TRIGGER\"], axis=1, inplace=True)\n",
    "    \n",
    "    # cut on minimum lepton pt\n",
    "    \n",
    "    # cut on lepton etcone20\n",
    "    \n",
    "    # cut on lepton d0\n",
    "    \n",
    "    # example of adding column that takes the return of the function cut_lep_pt_min\n",
    "    #data['lep_pt_min'] = data.apply(cut_lep_pt_min,axis=1)\n",
    "    \n",
    "    # example of cut on minimum number of leptons passing baseline requirements\n",
    "    #fail = data[ np.vectorize(cut_n_lep_min)(data.lep_pt_min) ].index\n",
    "    #data.drop(fail, inplace=True)\n",
    "    \n",
    "    # cut on number of leptons\n",
    "#     fail = data[ np.vectorize(cut_n_lep)(data.lep_n) ].index\n",
    "#     data.drop(fail, inplace=True)\n",
    "\n",
    "    # cut on lepton charge\n",
    "    #fail = data[ np.vectorize(cut_lep_charge)(data.lep_charge) ].index\n",
    "    #data.drop(fail, inplace=True)\n",
    "    \n",
    "    #print(data)\n",
    "    \n",
    "    # cut on lepton type\n",
    "    #fail = data[ np.vectorize(cut_lep_type)(data.lep_type) ].index\n",
    "    #data.drop(fail, inplace=True)\n",
    "    \n",
    "    # cut on lepton pt\n",
    "    fail = data[ np.vectorize(cut_lep_pt2)(data.lep_pt) ].index\n",
    "    data.drop(fail, inplace=True)\n",
    "    \n",
    "    # cut on deltaR\n",
    "    #fail = data[ np.vectorize(cut_deltaR)(data.lep_eta,data.lep_phi...\n",
    "    #data.drop(fail, inplace=True)\n",
    "    \n",
    "    # cut on minimum opposite-charge-same-type lepton pair invariant mass\n",
    "    #fail = data[ np.vectorize(cut_OCST)(data....\n",
    "\n",
    "    # calculation of Z boson candidate 1 invariant mass\n",
    "    #data['mZ1'] = np.vectorize(calc_mZ1)(data.lep_pt,data.lep_eta,data.lep_phi)\n",
    "    \n",
    "    # cut on mZ1\n",
    "    #fail = data[ np.vectorize(cut_mZ1)(data.mZ1) ].index\n",
    "    #data.drop(fail, inplace=True)\n",
    "    \n",
    "    # calculation of Z boson candidate 2 invariant mass\n",
    "    #data['mZ2'] = np.vectorize(calc_mZ2)(data....\n",
    "    \n",
    "    # cut on mZ2\n",
    "    #fail = data[ np.vectorize(cut_mZ2)(data.mZ2) ].index\n",
    "    #data.drop(fail, inplace=True)\n",
    "    \n",
    "    # calculation of 4-lepton invariant mass\n",
    "    data['mllll'] = np.vectorize(calc_mllll)(data.lep_pt,data.lep_eta,data.lep_phi)\n",
    "\n",
    "    mllll_window_list = data[ np.vectorize(mllll_window)(data.mllll) ] # return events with 120 < mllll < 130 GeV\n",
    "    \n",
    "    # example of expanding lep_pt list column into individual columns whilst requiring exactly 4 leptons\n",
    "    # need to change cut_lep_n to require exactly 4 leptons\n",
    "    #data[['lep1_pt','lep2_pt','lep3_pt','lep4_pt']] = pd.DataFrame(data.lep_pt.values.tolist(), index= data.index)\n",
    "\n",
    "    # example of expanding lep_pt list column into individual columns without requiring exactly 4 leptons\n",
    "    # need to do this for columns that you wish to use for fit_BDT\n",
    "    if max(data.lep_n) < 5: \n",
    "        df_split = pd.DataFrame(data['lep_pt'].values.tolist(), columns=['lep1_pt','lep2_pt','lep3_pt','lep4_pt'], index=data.index)\n",
    "        df_split['lep5_pt'] = 0\n",
    "        df_split['lep6_pt'] = 0\n",
    "    elif max(data.lep_n) < 6: \n",
    "        df_split = pd.DataFrame(data['lep_pt'].values.tolist(), columns=['lep1_pt','lep2_pt','lep3_pt','lep4_pt','lep5_pt'], index=data.index)\n",
    "        df_split['lep6_pt'] = 0\n",
    "    else: df_split = pd.DataFrame(data['lep_pt'].values.tolist(), columns=['lep1_pt','lep2_pt','lep3_pt','lep4_pt','lep5_pt','lep6_pt'], index=data.index)\n",
    "    df_split.fillna(0, inplace=True)\n",
    "    data = pd.concat([data, df_split], axis=1)\n",
    "    \n",
    "    #print(data)\n",
    "    \n",
    "    # drop the variables that are of variable length\n",
    "    data.drop([\"lep_pt\",\"lep_eta\",\"lep_phi\",\"lep_charge\",\"lep_type\",\"lep_etcone20\",\"lep_trackd0pvunbiased\",\"lep_tracksigd0pvunbiased\"], axis=1, inplace=True)  \n",
    "    \n",
    "    # totalWeight needs to be dropped to avoid being used in Random Forest\n",
    "    # if this is done, need to comment out plot_data(data) in bottom cell\n",
    "    if 'Data' not in sample: data.drop([\"totalWeight\"], axis=1, inplace=True)\n",
    "\n",
    "    nOut = len(data.index)\n",
    "\n",
    "    elapsed = time.time() - start\n",
    "    print(\"\\t\\tTime taken: \"+str(elapsed)+\", nIn: \"+str(nIn)+\", nOut: \"+str(nOut))\n",
    "    \n",
    "    return data"
   ]
  },
  {
   "cell_type": "markdown",
   "metadata": {},
   "source": [
    "## Changing an already uncommented cut"
   ]
  },
  {
   "cell_type": "markdown",
   "metadata": {},
   "source": [
    "If you change a cut: Cell -> Run All Below\n",
    "\n",
    "If you uncomment a cut here, you also need to uncomment the corresponding cut in the cell above."
   ]
  },
  {
   "cell_type": "code",
   "execution_count": 13,
   "metadata": {},
   "outputs": [],
   "source": [
    "# cut on number of leptons\n",
    "def cut_n_lep(lep_n):\n",
    "    # return when number of leptons is less than 4\n",
    "    return lep_n < 4\n",
    "\n",
    "# cut on lepton charge\n",
    "def cut_lep_charge(lep_charge):\n",
    "    # return when sum of lepton charges is not equal to 0\n",
    "    # exclamation mark (!) means \"not\"\n",
    "    # so != means \"not equal to\"\n",
    "    # first lepton is [0], 2nd lepton is [1] etc\n",
    "    return lep_charge[0] + lep_charge[1] + lep_charge[2] + lep_charge[3] != 0\n",
    "\n",
    "# cut on lepton type\n",
    "def cut_lep_type(lep_type):\n",
    "# for an electron lep_type is 11\n",
    "# for a muon lep_type is 13\n",
    "    sum_lep_type = lep_type[0] + lep_type[1] + lep_type[2] + lep_type[3]\n",
    "    return (lep_type[0]+lep_type[1]+lep_type[2]+lep_type[3] != 44) and (lep_type[0]+lep_type[1]+lep_type[2]+lep_type[3] != 48) and (lep_type[0]+lep_type[1]+lep_type[2]+lep_type[3] != 52)\n",
    "\n",
    "# cut on lepton pt\n",
    "\n",
    "def cut_lep_pt2(lep_pt):\n",
    "    return np.sum(lep_pt>7000, axis=0)==4\n",
    "\n",
    "#def cut_lep_pt(lep_pt):\n",
    "# want to throw away events where the 2nd highest pt lepton used has lep_pt[1] < 15000\n",
    "# want to throw away events where the 3rd highest pt lepton used has lep_pt[2] < 10000\n",
    "\n",
    "# cut on minimum opposite-charge-same-type lepton pair invariant mass\n",
    "#def cut_mOCST():\n",
    "# want to throw away events if the invariant mass of any opposite-charge-same-type lepton pair is < 5\n",
    "\n",
    "# cut on invariant mass of Z boson candidate 1\n",
    "#def cut_mZ1(mZ1):\n",
    "# want invariant mass of same-type-opposite-charge lepton pair that's closest to Z mass (91 GeV) to be in range 50 < m < 106 GeV\n",
    "\n",
    "# cut on invariant mass of Z boson candidate 2\n",
    "#def cut_mZ2(mZ2):\n",
    "# want invariant mass of remaining lepton pair that's closest to Z mass (91 GeV) to be in range 17.5 < m < 115 GeV\n",
    "# advanced: vary the lower range monotically from 17.5 at mllll=120 to 50 at mllll=190, and constant above mllll=190\n",
    "\n",
    "# cut on deltaR\n",
    "# want to throw away leptons that are separated from all other leptons by deltaR = math.sqrt(delta(lep_eta)**2 + delta(lep_phi)**2) < 0.2\n",
    "# want to throw away leptons that are separated from other leptons of the same type by deltaR = math.sqrt(delta(lep_eta)**2 + delta(lep_phi)**2) < 0.1\n",
    "\n",
    "# example of returning list where every element passes minimum lep_pt requirement\n",
    "#def cut_lep_pt_min(data):\n",
    "#    return [data.lep_pt[i] for i in range(len(data.lep_pt)) if data.lep_pt[i] > 6000]\n",
    "\n",
    "# cut on minimum lepton pt\n",
    "# want to throw away muons with lep_pt < 6000\n",
    "# want to throw away electrons with lep_pt < 7000\n",
    "\n",
    "# cut on maximum lepton etcone20\n",
    "# want to throw away muons with lep_etcone20/lep_pt < 0.3\n",
    "# want to throw away electrons with lep_etcone20/lep_pt < 0.2\n",
    "\n",
    "# cut on maximum lepton d0\n",
    "# want to throw away muons with lep_trackd0pvunbiased/lep_tracksigd0pvunbiased < 3.5\n",
    "# want to throw away electrons with lep_trackd0pvunbiased/lep_tracksigd0pvunbiased < 6.5\n",
    "\n",
    "# example of cutting on length of list passing minimum requirements\n",
    "#def cut_n_lep_min(lep_pt_min):\n",
    "#    return len(lep_pt_min) < 4"
   ]
  },
  {
   "cell_type": "code",
<<<<<<< HEAD
   "execution_count": 16,
=======
   "execution_count": 14,
>>>>>>> 3bfca4d1f4779a7e6f549ea4fa16a5313d4e9755
   "metadata": {},
   "outputs": [
    {
     "name": "stdout",
     "output_type": "stream",
     "text": [
      "data:\n",
      "../Input/Data/skim.DataEgamma.root\n",
      "\tProcessing: DataEgamma\n",
<<<<<<< HEAD
      "\t\tTime taken: 0.06584048271179199, nIn: 89, nOut: 55\n",
      "../Input/Data/skim.DataMuons.root\n",
      "\tProcessing: DataMuons\n",
      "\t\tTime taken: 0.0917518138885498, nIn: 112, nOut: 70\n",
      "$Z,t\\bar{t}$:\n",
      "../Input/MC/skim.mc_147770.Zee.root\n",
      "\tProcessing: Zee\n",
      "\t\tTime taken: 0.08477473258972168, nIn: 720, nOut: 524\n",
      "../Input/MC/skim.mc_147771.Zmumu.root\n",
      "\tProcessing: Zmumu\n",
      "\t\tTime taken: 0.10226941108703613, nIn: 1057, nOut: 803\n",
      "../Input/MC/skim.mc_117050.ttbar_lep.root\n",
      "\tProcessing: ttbar_lep\n",
      "\t\tTime taken: 0.0797886848449707, nIn: 897, nOut: 508\n",
      "ZZ:\n",
      "../Input/MC/skim.mc_105986.ZZ.root\n",
      "\tProcessing: ZZ\n",
      "\t\tTime taken: 0.09038257598876953, nIn: 1973, nOut: 130\n",
      "$H \\rightarrow ZZ \\rightarrow \\ell\\ell\\ell\\ell$:\n",
      "../Input/MC/skim.mc_160155.ggH125_ZZ4lep.root\n",
      "\tProcessing: ggH125_ZZ4lep\n",
      "\t\tTime taken: 0.5046491622924805, nIn: 21783, nOut: 3899\n",
      "../Input/MC/skim.mc_160205.VBFH125_ZZ4lep.root\n",
      "\tProcessing: VBFH125_ZZ4lep\n",
      "\t\tTime taken: 0.4371602535247803, nIn: 20954, nOut: 3693\n",
      "Time taken: 1.466578483581543\n"
=======
      "\t\tTime taken: 0.06681132316589355, nIn: 89, nOut: 89\n",
      "../Input/Data/skim.DataMuons.root\n",
      "\tProcessing: DataMuons\n",
      "\t\tTime taken: 0.051900625228881836, nIn: 112, nOut: 112\n",
      "$Z,t\\bar{t}$:\n",
      "../Input/MC/skim.mc_147770.Zee.root\n",
      "\tProcessing: Zee\n",
      "\t\tTime taken: 0.10170769691467285, nIn: 720, nOut: 720\n",
      "../Input/MC/skim.mc_147771.Zmumu.root\n",
      "\tProcessing: Zmumu\n",
      "\t\tTime taken: 0.09270906448364258, nIn: 1057, nOut: 1057\n",
      "../Input/MC/skim.mc_117050.ttbar_lep.root\n",
      "\tProcessing: ttbar_lep\n",
      "\t\tTime taken: 0.07583761215209961, nIn: 897, nOut: 897\n",
      "ZZ:\n",
      "../Input/MC/skim.mc_105986.ZZ.root\n",
      "\tProcessing: ZZ\n",
      "\t\tTime taken: 0.12168145179748535, nIn: 1973, nOut: 1973\n",
      "$H \\rightarrow ZZ \\rightarrow \\ell\\ell\\ell\\ell$:\n",
      "../Input/MC/skim.mc_160155.ggH125_ZZ4lep.root\n",
      "\tProcessing: ggH125_ZZ4lep\n",
      "\t\tTime taken: 0.8157768249511719, nIn: 21783, nOut: 21783\n",
      "../Input/MC/skim.mc_160205.VBFH125_ZZ4lep.root\n",
      "\tProcessing: VBFH125_ZZ4lep\n",
      "\t\tTime taken: 0.7549805641174316, nIn: 20954, nOut: 20954\n",
      "Time taken: 2.0924203395843506\n"
>>>>>>> 3bfca4d1f4779a7e6f549ea4fa16a5313d4e9755
     ]
    }
   ],
   "source": [
    "if __name__==\"__main__\":\n",
    "    start = time.time()\n",
    "    data = get_data_from_files()\n",
    "    #plot_data(data)\n",
    "    elapsed = time.time() - start\n",
    "    print(\"Time taken: \"+str(elapsed))"
   ]
  },
  {
   "cell_type": "markdown",
   "metadata": {},
   "source": [
    "We import the packages:"
   ]
  },
  {
   "cell_type": "code",
<<<<<<< HEAD
   "execution_count": 17,
=======
   "execution_count": 15,
>>>>>>> 3bfca4d1f4779a7e6f549ea4fa16a5313d4e9755
   "metadata": {},
   "outputs": [],
   "source": [
    "import sklearn.ensemble as ske"
   ]
  },
  {
   "cell_type": "markdown",
   "metadata": {},
   "source": [
    "We create a **RandomForestRegressor** model:"
   ]
  },
  {
   "cell_type": "code",
<<<<<<< HEAD
   "execution_count": 18,
=======
   "execution_count": 16,
>>>>>>> 3bfca4d1f4779a7e6f549ea4fa16a5313d4e9755
   "metadata": {},
   "outputs": [],
   "source": [
    "reg = ske.RandomForestRegressor()"
   ]
  },
  {
   "cell_type": "markdown",
   "metadata": {},
   "source": [
    "We get the samples and the target values from this dataset:"
   ]
  },
  {
   "cell_type": "code",
<<<<<<< HEAD
   "execution_count": 19,
=======
   "execution_count": 17,
>>>>>>> 3bfca4d1f4779a7e6f549ea4fa16a5313d4e9755
   "metadata": {},
   "outputs": [],
   "source": [
    "y = data[r'$H \\rightarrow ZZ \\rightarrow \\ell\\ell\\ell\\ell$'].mllll\n",
    "data[r'$H \\rightarrow ZZ \\rightarrow \\ell\\ell\\ell\\ell$'].drop([\"mllll\"], axis=1, inplace=True)\n",
    "X = data[r'$H \\rightarrow ZZ \\rightarrow \\ell\\ell\\ell\\ell$']"
   ]
  },
  {
   "cell_type": "markdown",
   "metadata": {},
   "source": [
    "Let's fit the model:"
   ]
  },
  {
   "cell_type": "code",
<<<<<<< HEAD
   "execution_count": 20,
=======
   "execution_count": 18,
>>>>>>> 3bfca4d1f4779a7e6f549ea4fa16a5313d4e9755
   "metadata": {},
   "outputs": [
    {
     "data": {
      "text/plain": [
       "RandomForestRegressor()"
      ]
     },
<<<<<<< HEAD
     "execution_count": 20,
=======
     "execution_count": 18,
>>>>>>> 3bfca4d1f4779a7e6f549ea4fa16a5313d4e9755
     "metadata": {},
     "output_type": "execute_result"
    }
   ],
   "source": [
    "reg.fit(X, y)"
   ]
  },
  {
   "cell_type": "markdown",
   "metadata": {},
   "source": [
    "The importance of our features can be found in **reg.feature_importances_**. We sort them by decreasing order of importance:"
   ]
  },
  {
   "cell_type": "code",
<<<<<<< HEAD
   "execution_count": 21,
=======
   "execution_count": 19,
>>>>>>> 3bfca4d1f4779a7e6f549ea4fa16a5313d4e9755
   "metadata": {},
   "outputs": [],
   "source": [
    "fet_ind = np.argsort(reg.feature_importances_)[::-1]\n",
    "fet_imp = reg.feature_importances_[fet_ind]"
   ]
  },
  {
   "cell_type": "markdown",
   "metadata": {},
   "source": [
    "Finally, we plot a histogram of the features' importance by creating a pandas **Series**:"
   ]
  },
  {
   "cell_type": "code",
<<<<<<< HEAD
   "execution_count": 22,
=======
   "execution_count": 21,
>>>>>>> 3bfca4d1f4779a7e6f549ea4fa16a5313d4e9755
   "metadata": {},
   "outputs": [
    {
     "data": {
      "text/plain": [
       "Text(0.5, 1.0, 'Features importance')"
      ]
     },
<<<<<<< HEAD
     "execution_count": 22,
=======
     "execution_count": 21,
>>>>>>> 3bfca4d1f4779a7e6f549ea4fa16a5313d4e9755
     "metadata": {},
     "output_type": "execute_result"
    },
    {
     "data": {
<<<<<<< HEAD
      "image/png": "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\n",
=======
      "image/png": "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\n",
>>>>>>> 3bfca4d1f4779a7e6f549ea4fa16a5313d4e9755
      "text/plain": [
       "<Figure size 576x216 with 1 Axes>"
      ]
     },
     "metadata": {
      "needs_background": "light"
     },
     "output_type": "display_data"
    }
   ],
   "source": [
    "fig, ax = plt.subplots(1, 1, figsize=(8, 3))\n",
    "labels = np.array(data[r'$H \\rightarrow ZZ \\rightarrow \\ell\\ell\\ell\\ell$'].columns)[fet_ind]\n",
    "pd.Series(fet_imp, index=labels).plot(kind='bar', ax=ax)\n",
    "ax.set_title('Features importance')"
   ]
  },
  {
   "cell_type": "markdown",
   "metadata": {},
   "source": [
    "We find that *lep2_pt* (transverse momentum of 2nd lepton) is the most important feature determining *mllll* (the invariant mass of the 4-lepton system). As an illustration, here is a scatter plot of *mllll* as a function of *lep2_pt*:"
   ]
  },
  {
   "cell_type": "code",
   "execution_count": 23,
   "metadata": {},
   "outputs": [
    {
     "data": {
<<<<<<< HEAD
      "image/png": "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\n",
=======
      "image/png": "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\n",
>>>>>>> 3bfca4d1f4779a7e6f549ea4fa16a5313d4e9755
      "text/plain": [
       "<Figure size 432x288 with 1 Axes>"
      ]
     },
     "metadata": {
      "needs_background": "light"
     },
     "output_type": "display_data"
    }
   ],
   "source": [
    "fig, ax = plt.subplots(1, 1)\n",
    "ax.scatter(X['lep2_pt'].values, y)\n",
    "ax.set_xlabel('lep2_pt [GeV]')\n",
    "ax.set_ylabel(r'$M_{\\ell\\ell\\ell\\ell}$ [GeV]')\n",
    "plt.show()"
   ]
  },
  {
   "cell_type": "code",
   "execution_count": null,
   "metadata": {},
   "outputs": [],
   "source": []
  }
 ],
 "metadata": {
  "kernelspec": {
   "display_name": "Python 3",
   "language": "python",
   "name": "python3"
  },
  "language_info": {
   "codemirror_mode": {
    "name": "ipython",
    "version": 3
   },
   "file_extension": ".py",
   "mimetype": "text/x-python",
   "name": "python",
   "nbconvert_exporter": "python",
   "pygments_lexer": "ipython3",
   "version": "3.8.5"
  }
 },
 "nbformat": 4,
 "nbformat_minor": 4
}
